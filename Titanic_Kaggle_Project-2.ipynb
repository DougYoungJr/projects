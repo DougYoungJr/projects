{
 "cells": [
  {
   "cell_type": "code",
   "execution_count": 1,
   "id": "acfb9cb4",
   "metadata": {},
   "outputs": [],
   "source": [
    "import pandas as pd\n",
    "import numpy as np"
   ]
  },
  {
   "cell_type": "code",
   "execution_count": 2,
   "id": "bfbab725",
   "metadata": {},
   "outputs": [],
   "source": [
    "import matplotlib.pyplot as plt\n",
    "import seaborn as sns\n",
    "%matplotlib inline"
   ]
  },
  {
   "cell_type": "code",
   "execution_count": 3,
   "id": "37bd429b",
   "metadata": {},
   "outputs": [],
   "source": [
    "sns.set_style('darkgrid')"
   ]
  },
  {
   "cell_type": "code",
   "execution_count": 4,
   "id": "c1967bb9",
   "metadata": {},
   "outputs": [],
   "source": [
    "df_train = pd.read_csv('train.csv')"
   ]
  },
  {
   "cell_type": "code",
   "execution_count": 5,
   "id": "6b5e89cb",
   "metadata": {},
   "outputs": [],
   "source": [
    "train = df_train.copy()"
   ]
  },
  {
   "cell_type": "markdown",
   "id": "86fff921",
   "metadata": {},
   "source": [
    "## EDA"
   ]
  },
  {
   "cell_type": "code",
   "execution_count": 6,
   "id": "a0e179e8",
   "metadata": {},
   "outputs": [
    {
     "name": "stdout",
     "output_type": "stream",
     "text": [
      "<class 'pandas.core.frame.DataFrame'>\n",
      "RangeIndex: 8693 entries, 0 to 8692\n",
      "Data columns (total 14 columns):\n",
      " #   Column        Non-Null Count  Dtype  \n",
      "---  ------        --------------  -----  \n",
      " 0   PassengerId   8693 non-null   object \n",
      " 1   HomePlanet    8492 non-null   object \n",
      " 2   CryoSleep     8476 non-null   object \n",
      " 3   Cabin         8494 non-null   object \n",
      " 4   Destination   8511 non-null   object \n",
      " 5   Age           8514 non-null   float64\n",
      " 6   VIP           8490 non-null   object \n",
      " 7   RoomService   8512 non-null   float64\n",
      " 8   FoodCourt     8510 non-null   float64\n",
      " 9   ShoppingMall  8485 non-null   float64\n",
      " 10  Spa           8510 non-null   float64\n",
      " 11  VRDeck        8505 non-null   float64\n",
      " 12  Name          8493 non-null   object \n",
      " 13  Transported   8693 non-null   bool   \n",
      "dtypes: bool(1), float64(6), object(7)\n",
      "memory usage: 891.5+ KB\n"
     ]
    }
   ],
   "source": [
    "train.info()"
   ]
  },
  {
   "cell_type": "code",
   "execution_count": 7,
   "id": "d4d8cfed",
   "metadata": {},
   "outputs": [
    {
     "data": {
      "text/plain": [
       "Index(['PassengerId', 'HomePlanet', 'CryoSleep', 'Cabin', 'Destination', 'Age',\n",
       "       'VIP', 'RoomService', 'FoodCourt', 'ShoppingMall', 'Spa', 'VRDeck',\n",
       "       'Name', 'Transported'],\n",
       "      dtype='object')"
      ]
     },
     "execution_count": 7,
     "metadata": {},
     "output_type": "execute_result"
    }
   ],
   "source": [
    "train.columns"
   ]
  },
  {
   "cell_type": "markdown",
   "id": "d2cc518a",
   "metadata": {},
   "source": [
    "#### Get Categorical Values"
   ]
  },
  {
   "cell_type": "code",
   "execution_count": 8,
   "id": "aeecd1a2",
   "metadata": {},
   "outputs": [
    {
     "name": "stdout",
     "output_type": "stream",
     "text": [
      "Categorical Values:\n",
      "\n",
      "PassengerId\n",
      "HomePlanet\n",
      "CryoSleep\n",
      "Cabin\n",
      "Destination\n",
      "VIP\n",
      "Name\n"
     ]
    }
   ],
   "source": [
    "print('Categorical Values:')\n",
    "print('')\n",
    "for col in train.select_dtypes(include=['object']).columns:\n",
    "    print(col)"
   ]
  },
  {
   "cell_type": "code",
   "execution_count": 9,
   "id": "908e6b2f",
   "metadata": {},
   "outputs": [
    {
     "data": {
      "text/plain": [
       "['PassengerId',\n",
       " 'HomePlanet',\n",
       " 'CryoSleep',\n",
       " 'Cabin',\n",
       " 'Destination',\n",
       " 'VIP',\n",
       " 'Name']"
      ]
     },
     "execution_count": 9,
     "metadata": {},
     "output_type": "execute_result"
    }
   ],
   "source": [
    "categorical_vars = list(train.select_dtypes(include=['object']).columns)\n",
    "categorical_vars"
   ]
  },
  {
   "cell_type": "markdown",
   "id": "d39728d2",
   "metadata": {},
   "source": [
    "#### Replace categorical values with most common value\n",
    "    set column equal to itself transformed\n",
    "    call fillnam() to fill NaN values with...\n",
    "    call the column itself.mode() - this returns a series with one item\n",
    "    use index [0] to grab that item as str"
   ]
  },
  {
   "cell_type": "code",
   "execution_count": 10,
   "id": "3b01b4df",
   "metadata": {},
   "outputs": [],
   "source": [
    "\n",
    "#for cat_col in categorical_vars:\n",
    "#    if cat_col != 'Name':\n",
    "#        df[cat_col] = df[cat_col].fillna(df[cat_col].mode()[0])\n",
    "    "
   ]
  },
  {
   "cell_type": "markdown",
   "id": "fed05007",
   "metadata": {},
   "source": [
    "#### Get Numerical Values"
   ]
  },
  {
   "cell_type": "code",
   "execution_count": 11,
   "id": "bb8340a2",
   "metadata": {},
   "outputs": [
    {
     "name": "stdout",
     "output_type": "stream",
     "text": [
      "Numerical Values:\n",
      "\n",
      "Age\n",
      "RoomService\n",
      "FoodCourt\n",
      "ShoppingMall\n",
      "Spa\n",
      "VRDeck\n",
      "Transported\n"
     ]
    }
   ],
   "source": [
    "print('Numerical Values:')\n",
    "print('')\n",
    "for col in train._get_numeric_data().columns:\n",
    "    print(col)"
   ]
  },
  {
   "cell_type": "code",
   "execution_count": 12,
   "id": "dd7270ac",
   "metadata": {},
   "outputs": [
    {
     "data": {
      "text/plain": [
       "['Age',\n",
       " 'RoomService',\n",
       " 'FoodCourt',\n",
       " 'ShoppingMall',\n",
       " 'Spa',\n",
       " 'VRDeck',\n",
       " 'Transported']"
      ]
     },
     "execution_count": 12,
     "metadata": {},
     "output_type": "execute_result"
    }
   ],
   "source": [
    "numerical_vars = list(train._get_numeric_data().columns)\n",
    "numerical_vars"
   ]
  },
  {
   "cell_type": "markdown",
   "id": "685624de",
   "metadata": {},
   "source": [
    "#### Replace NaN in numerical with mean\n",
    "    doesnt need index - mean() returns the ave as a float"
   ]
  },
  {
   "cell_type": "code",
   "execution_count": 13,
   "id": "76586e73",
   "metadata": {},
   "outputs": [],
   "source": [
    "#for num_col in numerical_vars:\n",
    "#    df[num_col] = df[num_col].fillna(df[num_col].mean())"
   ]
  },
  {
   "cell_type": "code",
   "execution_count": 14,
   "id": "ed20786a",
   "metadata": {},
   "outputs": [
    {
     "data": {
      "text/plain": [
       "28.82793046746535"
      ]
     },
     "execution_count": 14,
     "metadata": {},
     "output_type": "execute_result"
    }
   ],
   "source": [
    "train['Age'].mean()"
   ]
  },
  {
   "cell_type": "markdown",
   "id": "e30d9242",
   "metadata": {},
   "source": [
    "#### Show missing values"
   ]
  },
  {
   "cell_type": "code",
   "execution_count": 15,
   "id": "f0213d42",
   "metadata": {},
   "outputs": [
    {
     "name": "stdout",
     "output_type": "stream",
     "text": [
      "PassengerId 0\n",
      "HomePlanet 201\n",
      "CryoSleep 217\n",
      "Cabin 199\n",
      "Destination 182\n",
      "Age 179\n",
      "VIP 203\n",
      "RoomService 181\n",
      "FoodCourt 183\n",
      "ShoppingMall 208\n",
      "Spa 183\n",
      "VRDeck 188\n",
      "Name 200\n",
      "Transported 0\n"
     ]
    }
   ],
   "source": [
    "for col in train.columns:\n",
    "    print(col, train[col].isnull().sum())"
   ]
  },
  {
   "cell_type": "markdown",
   "id": "e661df8a",
   "metadata": {},
   "source": [
    "#### Show missing values as a percentage of rows"
   ]
  },
  {
   "cell_type": "code",
   "execution_count": 16,
   "id": "f9d558bd",
   "metadata": {},
   "outputs": [
    {
     "name": "stdout",
     "output_type": "stream",
     "text": [
      "PassengerId 0.0\n",
      "HomePlanet 0.023122052225928908\n",
      "CryoSleep 0.02496261359714713\n",
      "Cabin 0.02289198205452663\n",
      "Destination 0.02093638559760727\n",
      "Age 0.020591280340503854\n",
      "VIP 0.023352122397331185\n",
      "RoomService 0.02082135051190613\n",
      "FoodCourt 0.021051420683308408\n",
      "ShoppingMall 0.02392729782583688\n",
      "Spa 0.021051420683308408\n",
      "VRDeck 0.021626596111814105\n",
      "Name 0.023007017140227768\n",
      "Transported 0.0\n"
     ]
    }
   ],
   "source": [
    "for col in train.columns:\n",
    "    print(col, train[col].isnull().sum()/len(train))"
   ]
  },
  {
   "cell_type": "code",
   "execution_count": 17,
   "id": "f6f533b6",
   "metadata": {},
   "outputs": [
    {
     "data": {
      "text/plain": [
       "8693"
      ]
     },
     "execution_count": 17,
     "metadata": {},
     "output_type": "execute_result"
    }
   ],
   "source": [
    "len(train)"
   ]
  },
  {
   "cell_type": "code",
   "execution_count": 18,
   "id": "6491a923",
   "metadata": {},
   "outputs": [
    {
     "data": {
      "text/html": [
       "<div>\n",
       "<style scoped>\n",
       "    .dataframe tbody tr th:only-of-type {\n",
       "        vertical-align: middle;\n",
       "    }\n",
       "\n",
       "    .dataframe tbody tr th {\n",
       "        vertical-align: top;\n",
       "    }\n",
       "\n",
       "    .dataframe thead th {\n",
       "        text-align: right;\n",
       "    }\n",
       "</style>\n",
       "<table border=\"1\" class=\"dataframe\">\n",
       "  <thead>\n",
       "    <tr style=\"text-align: right;\">\n",
       "      <th></th>\n",
       "      <th>Age</th>\n",
       "      <th>RoomService</th>\n",
       "      <th>FoodCourt</th>\n",
       "      <th>ShoppingMall</th>\n",
       "      <th>Spa</th>\n",
       "      <th>VRDeck</th>\n",
       "    </tr>\n",
       "  </thead>\n",
       "  <tbody>\n",
       "    <tr>\n",
       "      <th>count</th>\n",
       "      <td>8514.000000</td>\n",
       "      <td>8512.000000</td>\n",
       "      <td>8510.000000</td>\n",
       "      <td>8485.000000</td>\n",
       "      <td>8510.000000</td>\n",
       "      <td>8505.000000</td>\n",
       "    </tr>\n",
       "    <tr>\n",
       "      <th>mean</th>\n",
       "      <td>28.827930</td>\n",
       "      <td>224.687617</td>\n",
       "      <td>458.077203</td>\n",
       "      <td>173.729169</td>\n",
       "      <td>311.138778</td>\n",
       "      <td>304.854791</td>\n",
       "    </tr>\n",
       "    <tr>\n",
       "      <th>std</th>\n",
       "      <td>14.489021</td>\n",
       "      <td>666.717663</td>\n",
       "      <td>1611.489240</td>\n",
       "      <td>604.696458</td>\n",
       "      <td>1136.705535</td>\n",
       "      <td>1145.717189</td>\n",
       "    </tr>\n",
       "    <tr>\n",
       "      <th>min</th>\n",
       "      <td>0.000000</td>\n",
       "      <td>0.000000</td>\n",
       "      <td>0.000000</td>\n",
       "      <td>0.000000</td>\n",
       "      <td>0.000000</td>\n",
       "      <td>0.000000</td>\n",
       "    </tr>\n",
       "    <tr>\n",
       "      <th>25%</th>\n",
       "      <td>19.000000</td>\n",
       "      <td>0.000000</td>\n",
       "      <td>0.000000</td>\n",
       "      <td>0.000000</td>\n",
       "      <td>0.000000</td>\n",
       "      <td>0.000000</td>\n",
       "    </tr>\n",
       "    <tr>\n",
       "      <th>50%</th>\n",
       "      <td>27.000000</td>\n",
       "      <td>0.000000</td>\n",
       "      <td>0.000000</td>\n",
       "      <td>0.000000</td>\n",
       "      <td>0.000000</td>\n",
       "      <td>0.000000</td>\n",
       "    </tr>\n",
       "    <tr>\n",
       "      <th>75%</th>\n",
       "      <td>38.000000</td>\n",
       "      <td>47.000000</td>\n",
       "      <td>76.000000</td>\n",
       "      <td>27.000000</td>\n",
       "      <td>59.000000</td>\n",
       "      <td>46.000000</td>\n",
       "    </tr>\n",
       "    <tr>\n",
       "      <th>max</th>\n",
       "      <td>79.000000</td>\n",
       "      <td>14327.000000</td>\n",
       "      <td>29813.000000</td>\n",
       "      <td>23492.000000</td>\n",
       "      <td>22408.000000</td>\n",
       "      <td>24133.000000</td>\n",
       "    </tr>\n",
       "  </tbody>\n",
       "</table>\n",
       "</div>"
      ],
      "text/plain": [
       "               Age   RoomService     FoodCourt  ShoppingMall           Spa  \\\n",
       "count  8514.000000   8512.000000   8510.000000   8485.000000   8510.000000   \n",
       "mean     28.827930    224.687617    458.077203    173.729169    311.138778   \n",
       "std      14.489021    666.717663   1611.489240    604.696458   1136.705535   \n",
       "min       0.000000      0.000000      0.000000      0.000000      0.000000   \n",
       "25%      19.000000      0.000000      0.000000      0.000000      0.000000   \n",
       "50%      27.000000      0.000000      0.000000      0.000000      0.000000   \n",
       "75%      38.000000     47.000000     76.000000     27.000000     59.000000   \n",
       "max      79.000000  14327.000000  29813.000000  23492.000000  22408.000000   \n",
       "\n",
       "             VRDeck  \n",
       "count   8505.000000  \n",
       "mean     304.854791  \n",
       "std     1145.717189  \n",
       "min        0.000000  \n",
       "25%        0.000000  \n",
       "50%        0.000000  \n",
       "75%       46.000000  \n",
       "max    24133.000000  "
      ]
     },
     "execution_count": 18,
     "metadata": {},
     "output_type": "execute_result"
    }
   ],
   "source": [
    "train.describe()"
   ]
  },
  {
   "cell_type": "markdown",
   "id": "74b73e33",
   "metadata": {},
   "source": [
    "#### describe for categorical data, O=object?"
   ]
  },
  {
   "cell_type": "code",
   "execution_count": 19,
   "id": "ee38f02b",
   "metadata": {},
   "outputs": [
    {
     "data": {
      "text/html": [
       "<div>\n",
       "<style scoped>\n",
       "    .dataframe tbody tr th:only-of-type {\n",
       "        vertical-align: middle;\n",
       "    }\n",
       "\n",
       "    .dataframe tbody tr th {\n",
       "        vertical-align: top;\n",
       "    }\n",
       "\n",
       "    .dataframe thead th {\n",
       "        text-align: right;\n",
       "    }\n",
       "</style>\n",
       "<table border=\"1\" class=\"dataframe\">\n",
       "  <thead>\n",
       "    <tr style=\"text-align: right;\">\n",
       "      <th></th>\n",
       "      <th>PassengerId</th>\n",
       "      <th>HomePlanet</th>\n",
       "      <th>CryoSleep</th>\n",
       "      <th>Cabin</th>\n",
       "      <th>Destination</th>\n",
       "      <th>VIP</th>\n",
       "      <th>Name</th>\n",
       "    </tr>\n",
       "  </thead>\n",
       "  <tbody>\n",
       "    <tr>\n",
       "      <th>count</th>\n",
       "      <td>8693</td>\n",
       "      <td>8492</td>\n",
       "      <td>8476</td>\n",
       "      <td>8494</td>\n",
       "      <td>8511</td>\n",
       "      <td>8490</td>\n",
       "      <td>8493</td>\n",
       "    </tr>\n",
       "    <tr>\n",
       "      <th>unique</th>\n",
       "      <td>8693</td>\n",
       "      <td>3</td>\n",
       "      <td>2</td>\n",
       "      <td>6560</td>\n",
       "      <td>3</td>\n",
       "      <td>2</td>\n",
       "      <td>8473</td>\n",
       "    </tr>\n",
       "    <tr>\n",
       "      <th>top</th>\n",
       "      <td>0001_01</td>\n",
       "      <td>Earth</td>\n",
       "      <td>False</td>\n",
       "      <td>G/734/S</td>\n",
       "      <td>TRAPPIST-1e</td>\n",
       "      <td>False</td>\n",
       "      <td>Gollux Reedall</td>\n",
       "    </tr>\n",
       "    <tr>\n",
       "      <th>freq</th>\n",
       "      <td>1</td>\n",
       "      <td>4602</td>\n",
       "      <td>5439</td>\n",
       "      <td>8</td>\n",
       "      <td>5915</td>\n",
       "      <td>8291</td>\n",
       "      <td>2</td>\n",
       "    </tr>\n",
       "  </tbody>\n",
       "</table>\n",
       "</div>"
      ],
      "text/plain": [
       "       PassengerId HomePlanet CryoSleep    Cabin  Destination    VIP  \\\n",
       "count         8693       8492      8476     8494         8511   8490   \n",
       "unique        8693          3         2     6560            3      2   \n",
       "top        0001_01      Earth     False  G/734/S  TRAPPIST-1e  False   \n",
       "freq             1       4602      5439        8         5915   8291   \n",
       "\n",
       "                  Name  \n",
       "count             8493  \n",
       "unique            8473  \n",
       "top     Gollux Reedall  \n",
       "freq                 2  "
      ]
     },
     "execution_count": 19,
     "metadata": {},
     "output_type": "execute_result"
    }
   ],
   "source": [
    "train.describe(include=['O'])"
   ]
  },
  {
   "cell_type": "markdown",
   "id": "e34c29af",
   "metadata": {},
   "source": [
    "## Preprocessing, Cleaning, Feat Engineering"
   ]
  },
  {
   "cell_type": "code",
   "execution_count": 20,
   "id": "64cc9965",
   "metadata": {},
   "outputs": [],
   "source": [
    "def preprocessing(df):\n",
    "    \n",
    "    #Fill HomePlanet NaN values with 'Missing'\n",
    "    df['HomePlanet'].fillna('Missing',inplace=True)\n",
    "    \n",
    "    #Fill CryoSleep NaN values with 'Missing'\n",
    "    df['CryoSleep'].fillna('Missing',inplace=True)\n",
    "    \n",
    "    #Fill Cabin Missing values:\n",
    "    df['Cabin'].fillna('Missing/Missing/Missing',inplace=True)\n",
    "    #Separate Deck from Cabin column:\n",
    "    df['Deck'] = df['Cabin'].apply(lambda x: x.split('/')[0])\n",
    "    #Separate Side from Cabin column:\n",
    "    df['Side'] = df['Cabin'].apply(lambda x: x.split('/')[2])\n",
    "    #Drop Cabin column\n",
    "    df = df.drop('Cabin',axis=1)\n",
    "    \n",
    "    #Fill Destination Missing values:\n",
    "    df['Destination'].fillna('Missing',inplace=True)\n",
    "    \n",
    "    #Impute age w average age\n",
    "    df['Age'].fillna(df['Age'].mean(),inplace=True)\n",
    "    \n",
    "    #Fill VIP missing values with  Missing:\n",
    "    df['VIP'].fillna('Missing',inplace=True)\n",
    "    \n",
    "    #Fill in 0 for Missing info of monetary columns:\n",
    "    for cat in ['RoomService','FoodCourt','ShoppingMall','Spa','VRDeck']:\n",
    "        df[cat].fillna(0,inplace=True)\n",
    "            \n",
    "    #drop Name columns:\n",
    "    df = df.drop('Name',axis=1)\n",
    "    \n",
    "    #drop PassengerId:\n",
    "    df = df.drop('PassengerId',axis=1)\n",
    "    \n",
    "    #get dummies for categorical columns:\n",
    "    cat_list = ['HomePlanet', 'CryoSleep', 'Destination', 'VIP','Deck','Side']\n",
    "    df = pd.get_dummies(data=df,columns=cat_list,drop_first=True)\n",
    "    \n",
    "    return df"
   ]
  },
  {
   "cell_type": "code",
   "execution_count": 21,
   "id": "d188097f",
   "metadata": {},
   "outputs": [],
   "source": [
    "abt = preprocessing(train)"
   ]
  },
  {
   "cell_type": "code",
   "execution_count": 22,
   "id": "96ec57dd",
   "metadata": {},
   "outputs": [
    {
     "name": "stdout",
     "output_type": "stream",
     "text": [
      "<class 'pandas.core.frame.DataFrame'>\n",
      "RangeIndex: 8693 entries, 0 to 8692\n",
      "Data columns (total 27 columns):\n",
      " #   Column                     Non-Null Count  Dtype  \n",
      "---  ------                     --------------  -----  \n",
      " 0   Age                        8693 non-null   float64\n",
      " 1   RoomService                8693 non-null   float64\n",
      " 2   FoodCourt                  8693 non-null   float64\n",
      " 3   ShoppingMall               8693 non-null   float64\n",
      " 4   Spa                        8693 non-null   float64\n",
      " 5   VRDeck                     8693 non-null   float64\n",
      " 6   Transported                8693 non-null   bool   \n",
      " 7   HomePlanet_Europa          8693 non-null   uint8  \n",
      " 8   HomePlanet_Mars            8693 non-null   uint8  \n",
      " 9   HomePlanet_Missing         8693 non-null   uint8  \n",
      " 10  CryoSleep_True             8693 non-null   uint8  \n",
      " 11  CryoSleep_Missing          8693 non-null   uint8  \n",
      " 12  Destination_Missing        8693 non-null   uint8  \n",
      " 13  Destination_PSO J318.5-22  8693 non-null   uint8  \n",
      " 14  Destination_TRAPPIST-1e    8693 non-null   uint8  \n",
      " 15  VIP_True                   8693 non-null   uint8  \n",
      " 16  VIP_Missing                8693 non-null   uint8  \n",
      " 17  Deck_B                     8693 non-null   uint8  \n",
      " 18  Deck_C                     8693 non-null   uint8  \n",
      " 19  Deck_D                     8693 non-null   uint8  \n",
      " 20  Deck_E                     8693 non-null   uint8  \n",
      " 21  Deck_F                     8693 non-null   uint8  \n",
      " 22  Deck_G                     8693 non-null   uint8  \n",
      " 23  Deck_Missing               8693 non-null   uint8  \n",
      " 24  Deck_T                     8693 non-null   uint8  \n",
      " 25  Side_P                     8693 non-null   uint8  \n",
      " 26  Side_S                     8693 non-null   uint8  \n",
      "dtypes: bool(1), float64(6), uint8(20)\n",
      "memory usage: 585.9 KB\n"
     ]
    }
   ],
   "source": [
    "abt.info()"
   ]
  },
  {
   "cell_type": "markdown",
   "id": "f93d9ec8",
   "metadata": {},
   "source": [
    "## Train Test Split and Modeling"
   ]
  },
  {
   "cell_type": "code",
   "execution_count": 23,
   "id": "02cf0c8d",
   "metadata": {},
   "outputs": [],
   "source": [
    "from sklearn.preprocessing import StandardScaler\n",
    "from sklearn.linear_model import SGDClassifier\n",
    "from sklearn.pipeline import make_pipeline\n",
    "from sklearn.model_selection import train_test_split"
   ]
  },
  {
   "cell_type": "code",
   "execution_count": 24,
   "id": "dcbff1cd",
   "metadata": {},
   "outputs": [],
   "source": [
    "X = abt.drop('Transported',axis=1)\n",
    "y = abt['Transported']"
   ]
  },
  {
   "cell_type": "code",
   "execution_count": 25,
   "id": "d033bc24",
   "metadata": {},
   "outputs": [],
   "source": [
    "X_train, X_test, y_train, y_test = train_test_split(X, y, test_size=0.3, random_state=101)"
   ]
  },
  {
   "cell_type": "code",
   "execution_count": 26,
   "id": "24c68181",
   "metadata": {},
   "outputs": [],
   "source": [
    "from sklearn.metrics import accuracy_score, precision_score, recall_score, f1_score"
   ]
  },
  {
   "cell_type": "code",
   "execution_count": 27,
   "id": "4b6ee3dd",
   "metadata": {},
   "outputs": [],
   "source": [
    "from sklearn.svm import SVC\n",
    "from sklearn.linear_model import LogisticRegression"
   ]
  },
  {
   "cell_type": "code",
   "execution_count": 28,
   "id": "e19c3007",
   "metadata": {},
   "outputs": [
    {
     "name": "stdout",
     "output_type": "stream",
     "text": [
      "SVC Results\n",
      "Accuracy:\n",
      "0.7956288343558282\n",
      "Precision:\n",
      "0.7509702457956016\n",
      "Recall:\n",
      "0.8869365928189458\n",
      "\n",
      "\n",
      "LogReg Results\n",
      "Accuracy:\n",
      "0.7967791411042945\n",
      "Precision:\n",
      "0.7866077998528329\n",
      "Recall:\n",
      "0.8166539343009931\n"
     ]
    }
   ],
   "source": [
    "svc_model = SVC(probability=True)\n",
    "svc_model.fit(X_train,y_train)\n",
    "\n",
    "svc_predictions = svc_model.predict(X_test)\n",
    "print('SVC Results')\n",
    "print('Accuracy:')\n",
    "print(accuracy_score(y_test,svc_predictions))\n",
    "print('Precision:')\n",
    "print(precision_score(y_test,svc_predictions))\n",
    "print('Recall:')\n",
    "print(recall_score(y_test,svc_predictions))\n",
    "print('')\n",
    "print('')\n",
    "lr_model = LogisticRegression(max_iter=1000,warm_start=True)\n",
    "lr_model.fit(X_train,y_train)\n",
    "\n",
    "lr_predictions = lr_model.predict(X_test)\n",
    "print('LogReg Results')\n",
    "print('Accuracy:')\n",
    "print(accuracy_score(y_test,lr_predictions))\n",
    "print('Precision:')\n",
    "print(precision_score(y_test,lr_predictions))\n",
    "print('Recall:')\n",
    "print(recall_score(y_test,lr_predictions))"
   ]
  },
  {
   "cell_type": "code",
   "execution_count": 34,
   "id": "aa891912",
   "metadata": {},
   "outputs": [],
   "source": [
    "from sklearn.metrics import accuracy_score, precision_score,recall_score,confusion_matrix"
   ]
  },
  {
   "cell_type": "code",
   "execution_count": 30,
   "id": "9cf9bd36",
   "metadata": {},
   "outputs": [],
   "source": [
    "sgd = SGDClassifier(loss='modified_huber',penalty='l1')"
   ]
  },
  {
   "cell_type": "code",
   "execution_count": 31,
   "id": "7ec42282",
   "metadata": {},
   "outputs": [
    {
     "data": {
      "text/plain": [
       "SGDClassifier(loss='modified_huber', penalty='l1')"
      ]
     },
     "execution_count": 31,
     "metadata": {},
     "output_type": "execute_result"
    }
   ],
   "source": [
    "sgd.fit(X_train,y_train)"
   ]
  },
  {
   "cell_type": "code",
   "execution_count": 32,
   "id": "2fc5445b",
   "metadata": {},
   "outputs": [],
   "source": [
    "sgd_predictions = sgd.predict(X_test)"
   ]
  },
  {
   "cell_type": "code",
   "execution_count": 35,
   "id": "ec797c13",
   "metadata": {},
   "outputs": [
    {
     "name": "stdout",
     "output_type": "stream",
     "text": [
      "Results: \n",
      "\n",
      "Accuracy: 0.7664877300613497\n",
      "Precision: 0.7684049079754601\n",
      "Recall: 0.7654698242933538\n",
      "\n",
      "\n",
      "Confusion Matrix:\n",
      "[[ 997  307]\n",
      " [ 302 1002]]\n"
     ]
    }
   ],
   "source": [
    "acc = accuracy_score(y_test,sgd_predictions)\n",
    "pre = precision_score(y_test,sgd_predictions)\n",
    "rec = recall_score(y_test,sgd_predictions)\n",
    "print('Results: \\n')\n",
    "print(f'Accuracy: {acc}')\n",
    "print(f'Precision: {pre}')\n",
    "print(f'Recall: {rec}')\n",
    "print('\\n')\n",
    "print('Confusion Matrix:')\n",
    "print(confusion_matrix(sgd_predictions,y_test))"
   ]
  },
  {
   "cell_type": "code",
   "execution_count": 36,
   "id": "d58c0012",
   "metadata": {},
   "outputs": [
    {
     "name": "stdout",
     "output_type": "stream",
     "text": [
      "[[ 997  307]\n",
      " [ 302 1002]]\n"
     ]
    }
   ],
   "source": [
    "print(confusion_matrix(sgd_predictions,y_test))"
   ]
  },
  {
   "cell_type": "markdown",
   "id": "75dbfcd5",
   "metadata": {},
   "source": [
    "### SGDClassifier\n",
    "    X_train.shape = (6085, 26) so index [0] = 6085\n",
    "    "
   ]
  },
  {
   "cell_type": "code",
   "execution_count": 37,
   "id": "b9478923",
   "metadata": {},
   "outputs": [
    {
     "data": {
      "text/plain": [
       "Pipeline(steps=[('standardscaler', StandardScaler()),\n",
       "                ('sgdclassifier', SGDClassifier(max_iter=165.0))])"
      ]
     },
     "execution_count": 37,
     "metadata": {},
     "output_type": "execute_result"
    }
   ],
   "source": [
    "max_iter = np.ceil(10**6/X_train.shape[0])\n",
    "\n",
    "clf = make_pipeline(StandardScaler(),\n",
    "                   SGDClassifier(max_iter=max_iter,tol=1e-3))\n",
    "\n",
    "clf.fit(X_train,y_train)"
   ]
  },
  {
   "cell_type": "code",
   "execution_count": 39,
   "id": "64be4ff2",
   "metadata": {},
   "outputs": [],
   "source": [
    "y_pred = clf.predict(X_test)"
   ]
  },
  {
   "cell_type": "code",
   "execution_count": 40,
   "id": "7d1fbdfc",
   "metadata": {},
   "outputs": [],
   "source": [
    "from sklearn.metrics import classification_report, confusion_matrix"
   ]
  },
  {
   "cell_type": "code",
   "execution_count": 41,
   "id": "ca7fdf29",
   "metadata": {},
   "outputs": [
    {
     "name": "stdout",
     "output_type": "stream",
     "text": [
      "              precision    recall  f1-score   support\n",
      "\n",
      "       False       0.77      0.77      0.77      1299\n",
      "        True       0.77      0.77      0.77      1309\n",
      "\n",
      "    accuracy                           0.77      2608\n",
      "   macro avg       0.77      0.77      0.77      2608\n",
      "weighted avg       0.77      0.77      0.77      2608\n",
      "\n"
     ]
    }
   ],
   "source": [
    "print(classification_report(y_test,y_pred))"
   ]
  },
  {
   "cell_type": "code",
   "execution_count": 42,
   "id": "55777bff",
   "metadata": {},
   "outputs": [
    {
     "name": "stdout",
     "output_type": "stream",
     "text": [
      "[[ 994  305]\n",
      " [ 298 1011]]\n"
     ]
    }
   ],
   "source": [
    "print(confusion_matrix(y_test,y_pred))"
   ]
  },
  {
   "cell_type": "code",
   "execution_count": 43,
   "id": "73a9ee03",
   "metadata": {},
   "outputs": [
    {
     "data": {
      "text/plain": [
       "array([ True, False,  True, ..., False,  True, False])"
      ]
     },
     "execution_count": 43,
     "metadata": {},
     "output_type": "execute_result"
    }
   ],
   "source": [
    "y_pred"
   ]
  },
  {
   "cell_type": "code",
   "execution_count": 44,
   "id": "3f50ef1e",
   "metadata": {},
   "outputs": [
    {
     "name": "stdout",
     "output_type": "stream",
     "text": [
      "acc:\n",
      "0.7687883435582822\n",
      "prec:\n",
      "0.7682370820668692\n",
      "rec:\n",
      "0.7723453017570665\n"
     ]
    }
   ],
   "source": [
    "print('acc:')\n",
    "print(accuracy_score(y_test,y_pred)) \n",
    "print('prec:')\n",
    "print(precision_score(y_test,y_pred))\n",
    "print('rec:')\n",
    "print(recall_score(y_test,y_pred))"
   ]
  },
  {
   "cell_type": "code",
   "execution_count": null,
   "id": "d33ad518",
   "metadata": {},
   "outputs": [],
   "source": []
  },
  {
   "cell_type": "code",
   "execution_count": null,
   "id": "c8c9d56e",
   "metadata": {},
   "outputs": [],
   "source": []
  },
  {
   "cell_type": "code",
   "execution_count": 45,
   "id": "496d09ab",
   "metadata": {},
   "outputs": [
    {
     "data": {
      "text/html": [
       "<div>\n",
       "<style scoped>\n",
       "    .dataframe tbody tr th:only-of-type {\n",
       "        vertical-align: middle;\n",
       "    }\n",
       "\n",
       "    .dataframe tbody tr th {\n",
       "        vertical-align: top;\n",
       "    }\n",
       "\n",
       "    .dataframe thead th {\n",
       "        text-align: right;\n",
       "    }\n",
       "</style>\n",
       "<table border=\"1\" class=\"dataframe\">\n",
       "  <thead>\n",
       "    <tr style=\"text-align: right;\">\n",
       "      <th></th>\n",
       "      <th>Age</th>\n",
       "      <th>RoomService</th>\n",
       "      <th>FoodCourt</th>\n",
       "      <th>ShoppingMall</th>\n",
       "      <th>Spa</th>\n",
       "      <th>VRDeck</th>\n",
       "      <th>Transported</th>\n",
       "      <th>HomePlanet_Europa</th>\n",
       "      <th>HomePlanet_Mars</th>\n",
       "      <th>HomePlanet_Missing</th>\n",
       "      <th>...</th>\n",
       "      <th>Deck_B</th>\n",
       "      <th>Deck_C</th>\n",
       "      <th>Deck_D</th>\n",
       "      <th>Deck_E</th>\n",
       "      <th>Deck_F</th>\n",
       "      <th>Deck_G</th>\n",
       "      <th>Deck_Missing</th>\n",
       "      <th>Deck_T</th>\n",
       "      <th>Side_P</th>\n",
       "      <th>Side_S</th>\n",
       "    </tr>\n",
       "  </thead>\n",
       "  <tbody>\n",
       "    <tr>\n",
       "      <th>0</th>\n",
       "      <td>39.0</td>\n",
       "      <td>0.0</td>\n",
       "      <td>0.0</td>\n",
       "      <td>0.0</td>\n",
       "      <td>0.0</td>\n",
       "      <td>0.0</td>\n",
       "      <td>False</td>\n",
       "      <td>1</td>\n",
       "      <td>0</td>\n",
       "      <td>0</td>\n",
       "      <td>...</td>\n",
       "      <td>1</td>\n",
       "      <td>0</td>\n",
       "      <td>0</td>\n",
       "      <td>0</td>\n",
       "      <td>0</td>\n",
       "      <td>0</td>\n",
       "      <td>0</td>\n",
       "      <td>0</td>\n",
       "      <td>1</td>\n",
       "      <td>0</td>\n",
       "    </tr>\n",
       "    <tr>\n",
       "      <th>1</th>\n",
       "      <td>24.0</td>\n",
       "      <td>109.0</td>\n",
       "      <td>9.0</td>\n",
       "      <td>25.0</td>\n",
       "      <td>549.0</td>\n",
       "      <td>44.0</td>\n",
       "      <td>True</td>\n",
       "      <td>0</td>\n",
       "      <td>0</td>\n",
       "      <td>0</td>\n",
       "      <td>...</td>\n",
       "      <td>0</td>\n",
       "      <td>0</td>\n",
       "      <td>0</td>\n",
       "      <td>0</td>\n",
       "      <td>1</td>\n",
       "      <td>0</td>\n",
       "      <td>0</td>\n",
       "      <td>0</td>\n",
       "      <td>0</td>\n",
       "      <td>1</td>\n",
       "    </tr>\n",
       "    <tr>\n",
       "      <th>2</th>\n",
       "      <td>58.0</td>\n",
       "      <td>43.0</td>\n",
       "      <td>3576.0</td>\n",
       "      <td>0.0</td>\n",
       "      <td>6715.0</td>\n",
       "      <td>49.0</td>\n",
       "      <td>False</td>\n",
       "      <td>1</td>\n",
       "      <td>0</td>\n",
       "      <td>0</td>\n",
       "      <td>...</td>\n",
       "      <td>0</td>\n",
       "      <td>0</td>\n",
       "      <td>0</td>\n",
       "      <td>0</td>\n",
       "      <td>0</td>\n",
       "      <td>0</td>\n",
       "      <td>0</td>\n",
       "      <td>0</td>\n",
       "      <td>0</td>\n",
       "      <td>1</td>\n",
       "    </tr>\n",
       "    <tr>\n",
       "      <th>3</th>\n",
       "      <td>33.0</td>\n",
       "      <td>0.0</td>\n",
       "      <td>1283.0</td>\n",
       "      <td>371.0</td>\n",
       "      <td>3329.0</td>\n",
       "      <td>193.0</td>\n",
       "      <td>False</td>\n",
       "      <td>1</td>\n",
       "      <td>0</td>\n",
       "      <td>0</td>\n",
       "      <td>...</td>\n",
       "      <td>0</td>\n",
       "      <td>0</td>\n",
       "      <td>0</td>\n",
       "      <td>0</td>\n",
       "      <td>0</td>\n",
       "      <td>0</td>\n",
       "      <td>0</td>\n",
       "      <td>0</td>\n",
       "      <td>0</td>\n",
       "      <td>1</td>\n",
       "    </tr>\n",
       "    <tr>\n",
       "      <th>4</th>\n",
       "      <td>16.0</td>\n",
       "      <td>303.0</td>\n",
       "      <td>70.0</td>\n",
       "      <td>151.0</td>\n",
       "      <td>565.0</td>\n",
       "      <td>2.0</td>\n",
       "      <td>True</td>\n",
       "      <td>0</td>\n",
       "      <td>0</td>\n",
       "      <td>0</td>\n",
       "      <td>...</td>\n",
       "      <td>0</td>\n",
       "      <td>0</td>\n",
       "      <td>0</td>\n",
       "      <td>0</td>\n",
       "      <td>1</td>\n",
       "      <td>0</td>\n",
       "      <td>0</td>\n",
       "      <td>0</td>\n",
       "      <td>0</td>\n",
       "      <td>1</td>\n",
       "    </tr>\n",
       "  </tbody>\n",
       "</table>\n",
       "<p>5 rows × 27 columns</p>\n",
       "</div>"
      ],
      "text/plain": [
       "    Age  RoomService  FoodCourt  ShoppingMall     Spa  VRDeck  Transported  \\\n",
       "0  39.0          0.0        0.0           0.0     0.0     0.0        False   \n",
       "1  24.0        109.0        9.0          25.0   549.0    44.0         True   \n",
       "2  58.0         43.0     3576.0           0.0  6715.0    49.0        False   \n",
       "3  33.0          0.0     1283.0         371.0  3329.0   193.0        False   \n",
       "4  16.0        303.0       70.0         151.0   565.0     2.0         True   \n",
       "\n",
       "   HomePlanet_Europa  HomePlanet_Mars  HomePlanet_Missing  ...  Deck_B  \\\n",
       "0                  1                0                   0  ...       1   \n",
       "1                  0                0                   0  ...       0   \n",
       "2                  1                0                   0  ...       0   \n",
       "3                  1                0                   0  ...       0   \n",
       "4                  0                0                   0  ...       0   \n",
       "\n",
       "   Deck_C  Deck_D  Deck_E  Deck_F  Deck_G  Deck_Missing  Deck_T  Side_P  \\\n",
       "0       0       0       0       0       0             0       0       1   \n",
       "1       0       0       0       1       0             0       0       0   \n",
       "2       0       0       0       0       0             0       0       0   \n",
       "3       0       0       0       0       0             0       0       0   \n",
       "4       0       0       0       1       0             0       0       0   \n",
       "\n",
       "   Side_S  \n",
       "0       0  \n",
       "1       1  \n",
       "2       1  \n",
       "3       1  \n",
       "4       1  \n",
       "\n",
       "[5 rows x 27 columns]"
      ]
     },
     "execution_count": 45,
     "metadata": {},
     "output_type": "execute_result"
    }
   ],
   "source": [
    "abt.head()"
   ]
  },
  {
   "cell_type": "code",
   "execution_count": null,
   "id": "f8b604ea",
   "metadata": {},
   "outputs": [],
   "source": []
  },
  {
   "cell_type": "code",
   "execution_count": 46,
   "id": "e6353b74",
   "metadata": {},
   "outputs": [],
   "source": [
    "X = abt.drop('Transported',axis =1)\n",
    "y = abt['Transported']"
   ]
  },
  {
   "cell_type": "code",
   "execution_count": 47,
   "id": "0476f3d3",
   "metadata": {},
   "outputs": [],
   "source": [
    "X_train, X_test, y_train, y_test = train_test_split(X, y, test_size=0.33, random_state=42)"
   ]
  },
  {
   "cell_type": "code",
   "execution_count": 48,
   "id": "2fd847db",
   "metadata": {},
   "outputs": [],
   "source": [
    "from sklearn.ensemble import RandomForestClassifier"
   ]
  },
  {
   "cell_type": "code",
   "execution_count": 49,
   "id": "af511c93",
   "metadata": {},
   "outputs": [],
   "source": [
    "rfc = RandomForestClassifier(n_estimators=1000)"
   ]
  },
  {
   "cell_type": "code",
   "execution_count": 50,
   "id": "843616aa",
   "metadata": {},
   "outputs": [
    {
     "data": {
      "text/plain": [
       "RandomForestClassifier(n_estimators=1000)"
      ]
     },
     "execution_count": 50,
     "metadata": {},
     "output_type": "execute_result"
    }
   ],
   "source": [
    "rfc.fit(X_train,y_train)"
   ]
  },
  {
   "cell_type": "code",
   "execution_count": 51,
   "id": "d66df82f",
   "metadata": {},
   "outputs": [],
   "source": [
    "rfc_pred = rfc.predict(X_test)"
   ]
  },
  {
   "cell_type": "code",
   "execution_count": 52,
   "id": "37f0c91b",
   "metadata": {},
   "outputs": [],
   "source": [
    "from sklearn.metrics import confusion_matrix,classification_report"
   ]
  },
  {
   "cell_type": "code",
   "execution_count": 53,
   "id": "f06f6b52",
   "metadata": {},
   "outputs": [
    {
     "data": {
      "text/plain": [
       "array([[1128,  296],\n",
       "       [ 322, 1123]], dtype=int64)"
      ]
     },
     "execution_count": 53,
     "metadata": {},
     "output_type": "execute_result"
    }
   ],
   "source": [
    "confusion_matrix(y_test,rfc_pred)"
   ]
  },
  {
   "cell_type": "code",
   "execution_count": 54,
   "id": "924d2856",
   "metadata": {},
   "outputs": [
    {
     "name": "stdout",
     "output_type": "stream",
     "text": [
      "              precision    recall  f1-score   support\n",
      "\n",
      "       False       0.78      0.79      0.78      1424\n",
      "        True       0.79      0.78      0.78      1445\n",
      "\n",
      "    accuracy                           0.78      2869\n",
      "   macro avg       0.78      0.78      0.78      2869\n",
      "weighted avg       0.78      0.78      0.78      2869\n",
      "\n"
     ]
    }
   ],
   "source": [
    "print(classification_report(y_test,rfc_pred))"
   ]
  },
  {
   "cell_type": "code",
   "execution_count": null,
   "id": "4074ad70",
   "metadata": {},
   "outputs": [],
   "source": []
  }
 ],
 "metadata": {
  "kernelspec": {
   "display_name": "Python 3 (ipykernel)",
   "language": "python",
   "name": "python3"
  },
  "language_info": {
   "codemirror_mode": {
    "name": "ipython",
    "version": 3
   },
   "file_extension": ".py",
   "mimetype": "text/x-python",
   "name": "python",
   "nbconvert_exporter": "python",
   "pygments_lexer": "ipython3",
   "version": "3.9.12"
  }
 },
 "nbformat": 4,
 "nbformat_minor": 5
}
