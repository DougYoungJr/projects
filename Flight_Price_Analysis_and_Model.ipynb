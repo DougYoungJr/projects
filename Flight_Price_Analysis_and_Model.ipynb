{
 "cells": [
  {
   "cell_type": "code",
   "execution_count": 1,
   "id": "1fa95732",
   "metadata": {},
   "outputs": [],
   "source": [
    "import pandas as pd\n",
    "import numpy as np\n",
    "import matplotlib.pyplot as plt\n",
    "import seaborn as sns\n",
    "%matplotlib inline\n",
    "from datetime import datetime"
   ]
  },
  {
   "cell_type": "code",
   "execution_count": 2,
   "id": "cc35a499",
   "metadata": {},
   "outputs": [],
   "source": [
    "raw_train_data = pd.read_excel('Data_Train.xlsx',sheet_name='Sheet1')\n",
    "raw_test_data = pd.read_excel('Test_set.xlsx',sheet_name='Sheet1')"
   ]
  },
  {
   "cell_type": "code",
   "execution_count": 207,
   "id": "ed5d5c9e",
   "metadata": {},
   "outputs": [],
   "source": [
    "train = raw_train_data.copy()"
   ]
  },
  {
   "cell_type": "code",
   "execution_count": 4,
   "id": "3f4f6d86",
   "metadata": {},
   "outputs": [
    {
     "data": {
      "text/html": [
       "<div>\n",
       "<style scoped>\n",
       "    .dataframe tbody tr th:only-of-type {\n",
       "        vertical-align: middle;\n",
       "    }\n",
       "\n",
       "    .dataframe tbody tr th {\n",
       "        vertical-align: top;\n",
       "    }\n",
       "\n",
       "    .dataframe thead th {\n",
       "        text-align: right;\n",
       "    }\n",
       "</style>\n",
       "<table border=\"1\" class=\"dataframe\">\n",
       "  <thead>\n",
       "    <tr style=\"text-align: right;\">\n",
       "      <th></th>\n",
       "      <th>Airline</th>\n",
       "      <th>Date_of_Journey</th>\n",
       "      <th>Source</th>\n",
       "      <th>Destination</th>\n",
       "      <th>Route</th>\n",
       "      <th>Dep_Time</th>\n",
       "      <th>Arrival_Time</th>\n",
       "      <th>Duration</th>\n",
       "      <th>Total_Stops</th>\n",
       "      <th>Additional_Info</th>\n",
       "      <th>Price</th>\n",
       "    </tr>\n",
       "  </thead>\n",
       "  <tbody>\n",
       "    <tr>\n",
       "      <th>0</th>\n",
       "      <td>IndiGo</td>\n",
       "      <td>24/03/2019</td>\n",
       "      <td>Banglore</td>\n",
       "      <td>New Delhi</td>\n",
       "      <td>BLR → DEL</td>\n",
       "      <td>22:20</td>\n",
       "      <td>01:10 22 Mar</td>\n",
       "      <td>2h 50m</td>\n",
       "      <td>non-stop</td>\n",
       "      <td>No info</td>\n",
       "      <td>3897</td>\n",
       "    </tr>\n",
       "    <tr>\n",
       "      <th>1</th>\n",
       "      <td>Air India</td>\n",
       "      <td>1/05/2019</td>\n",
       "      <td>Kolkata</td>\n",
       "      <td>Banglore</td>\n",
       "      <td>CCU → IXR → BBI → BLR</td>\n",
       "      <td>05:50</td>\n",
       "      <td>13:15</td>\n",
       "      <td>7h 25m</td>\n",
       "      <td>2 stops</td>\n",
       "      <td>No info</td>\n",
       "      <td>7662</td>\n",
       "    </tr>\n",
       "    <tr>\n",
       "      <th>2</th>\n",
       "      <td>Jet Airways</td>\n",
       "      <td>9/06/2019</td>\n",
       "      <td>Delhi</td>\n",
       "      <td>Cochin</td>\n",
       "      <td>DEL → LKO → BOM → COK</td>\n",
       "      <td>09:25</td>\n",
       "      <td>04:25 10 Jun</td>\n",
       "      <td>19h</td>\n",
       "      <td>2 stops</td>\n",
       "      <td>No info</td>\n",
       "      <td>13882</td>\n",
       "    </tr>\n",
       "    <tr>\n",
       "      <th>3</th>\n",
       "      <td>IndiGo</td>\n",
       "      <td>12/05/2019</td>\n",
       "      <td>Kolkata</td>\n",
       "      <td>Banglore</td>\n",
       "      <td>CCU → NAG → BLR</td>\n",
       "      <td>18:05</td>\n",
       "      <td>23:30</td>\n",
       "      <td>5h 25m</td>\n",
       "      <td>1 stop</td>\n",
       "      <td>No info</td>\n",
       "      <td>6218</td>\n",
       "    </tr>\n",
       "    <tr>\n",
       "      <th>4</th>\n",
       "      <td>IndiGo</td>\n",
       "      <td>01/03/2019</td>\n",
       "      <td>Banglore</td>\n",
       "      <td>New Delhi</td>\n",
       "      <td>BLR → NAG → DEL</td>\n",
       "      <td>16:50</td>\n",
       "      <td>21:35</td>\n",
       "      <td>4h 45m</td>\n",
       "      <td>1 stop</td>\n",
       "      <td>No info</td>\n",
       "      <td>13302</td>\n",
       "    </tr>\n",
       "  </tbody>\n",
       "</table>\n",
       "</div>"
      ],
      "text/plain": [
       "       Airline Date_of_Journey    Source Destination                  Route  \\\n",
       "0       IndiGo      24/03/2019  Banglore   New Delhi              BLR → DEL   \n",
       "1    Air India       1/05/2019   Kolkata    Banglore  CCU → IXR → BBI → BLR   \n",
       "2  Jet Airways       9/06/2019     Delhi      Cochin  DEL → LKO → BOM → COK   \n",
       "3       IndiGo      12/05/2019   Kolkata    Banglore        CCU → NAG → BLR   \n",
       "4       IndiGo      01/03/2019  Banglore   New Delhi        BLR → NAG → DEL   \n",
       "\n",
       "  Dep_Time  Arrival_Time Duration Total_Stops Additional_Info  Price  \n",
       "0    22:20  01:10 22 Mar   2h 50m    non-stop         No info   3897  \n",
       "1    05:50         13:15   7h 25m     2 stops         No info   7662  \n",
       "2    09:25  04:25 10 Jun      19h     2 stops         No info  13882  \n",
       "3    18:05         23:30   5h 25m      1 stop         No info   6218  \n",
       "4    16:50         21:35   4h 45m      1 stop         No info  13302  "
      ]
     },
     "execution_count": 4,
     "metadata": {},
     "output_type": "execute_result"
    }
   ],
   "source": [
    "train.head()"
   ]
  },
  {
   "cell_type": "code",
   "execution_count": 5,
   "id": "74eebb4d",
   "metadata": {},
   "outputs": [
    {
     "name": "stdout",
     "output_type": "stream",
     "text": [
      "<class 'pandas.core.frame.DataFrame'>\n",
      "RangeIndex: 10683 entries, 0 to 10682\n",
      "Data columns (total 11 columns):\n",
      " #   Column           Non-Null Count  Dtype \n",
      "---  ------           --------------  ----- \n",
      " 0   Airline          10683 non-null  object\n",
      " 1   Date_of_Journey  10683 non-null  object\n",
      " 2   Source           10683 non-null  object\n",
      " 3   Destination      10683 non-null  object\n",
      " 4   Route            10682 non-null  object\n",
      " 5   Dep_Time         10683 non-null  object\n",
      " 6   Arrival_Time     10683 non-null  object\n",
      " 7   Duration         10683 non-null  object\n",
      " 8   Total_Stops      10682 non-null  object\n",
      " 9   Additional_Info  10683 non-null  object\n",
      " 10  Price            10683 non-null  int64 \n",
      "dtypes: int64(1), object(10)\n",
      "memory usage: 918.2+ KB\n"
     ]
    }
   ],
   "source": [
    "train.info()"
   ]
  },
  {
   "cell_type": "code",
   "execution_count": 6,
   "id": "4bbfbcc5",
   "metadata": {},
   "outputs": [
    {
     "data": {
      "text/html": [
       "<div>\n",
       "<style scoped>\n",
       "    .dataframe tbody tr th:only-of-type {\n",
       "        vertical-align: middle;\n",
       "    }\n",
       "\n",
       "    .dataframe tbody tr th {\n",
       "        vertical-align: top;\n",
       "    }\n",
       "\n",
       "    .dataframe thead th {\n",
       "        text-align: right;\n",
       "    }\n",
       "</style>\n",
       "<table border=\"1\" class=\"dataframe\">\n",
       "  <thead>\n",
       "    <tr style=\"text-align: right;\">\n",
       "      <th></th>\n",
       "      <th>Price</th>\n",
       "    </tr>\n",
       "  </thead>\n",
       "  <tbody>\n",
       "    <tr>\n",
       "      <th>count</th>\n",
       "      <td>10683.000000</td>\n",
       "    </tr>\n",
       "    <tr>\n",
       "      <th>mean</th>\n",
       "      <td>9087.064121</td>\n",
       "    </tr>\n",
       "    <tr>\n",
       "      <th>std</th>\n",
       "      <td>4611.359167</td>\n",
       "    </tr>\n",
       "    <tr>\n",
       "      <th>min</th>\n",
       "      <td>1759.000000</td>\n",
       "    </tr>\n",
       "    <tr>\n",
       "      <th>25%</th>\n",
       "      <td>5277.000000</td>\n",
       "    </tr>\n",
       "    <tr>\n",
       "      <th>50%</th>\n",
       "      <td>8372.000000</td>\n",
       "    </tr>\n",
       "    <tr>\n",
       "      <th>75%</th>\n",
       "      <td>12373.000000</td>\n",
       "    </tr>\n",
       "    <tr>\n",
       "      <th>max</th>\n",
       "      <td>79512.000000</td>\n",
       "    </tr>\n",
       "  </tbody>\n",
       "</table>\n",
       "</div>"
      ],
      "text/plain": [
       "              Price\n",
       "count  10683.000000\n",
       "mean    9087.064121\n",
       "std     4611.359167\n",
       "min     1759.000000\n",
       "25%     5277.000000\n",
       "50%     8372.000000\n",
       "75%    12373.000000\n",
       "max    79512.000000"
      ]
     },
     "execution_count": 6,
     "metadata": {},
     "output_type": "execute_result"
    }
   ],
   "source": [
    "train.describe()"
   ]
  },
  {
   "cell_type": "code",
   "execution_count": 7,
   "id": "fbaca194",
   "metadata": {},
   "outputs": [],
   "source": [
    "def time_fix(time):\n",
    "    if 'm' in list(time):\n",
    "        return 0\n",
    "    else:\n",
    "        return int(time)"
   ]
  },
  {
   "cell_type": "code",
   "execution_count": 8,
   "id": "3ce83fc9",
   "metadata": {},
   "outputs": [],
   "source": [
    "def add_info_fix(info):\n",
    "    if info == 'No info':\n",
    "        return info\n",
    "    elif info == 'In-flight meal not included':\n",
    "        return info\n",
    "    elif info == 'No check-in baggage included':\n",
    "        return info\n",
    "    elif info == '1 Long layover':\n",
    "        return info\n",
    "    elif info == 'Change airports':\n",
    "        return info\n",
    "    else:\n",
    "        return 'Other'"
   ]
  },
  {
   "cell_type": "code",
   "execution_count": 147,
   "id": "694e9ba5",
   "metadata": {},
   "outputs": [],
   "source": [
    "def airline_fix(info):\n",
    "    if info == 'Jet Airways':\n",
    "        return info\n",
    "    elif info == 'IndiGo':\n",
    "        return info\n",
    "    elif info == 'Air India':\n",
    "        return info\n",
    "    elif info == 'Multiple carriers':\n",
    "        return info\n",
    "    elif info == 'SpiceJet':\n",
    "        return info\n",
    "    elif info == 'Vistara':\n",
    "        return info\n",
    "    elif info == 'Air Asia':\n",
    "        return info\n",
    "    elif info == 'GoAir':\n",
    "        return info\n",
    "    else:\n",
    "        return 'Other'"
   ]
  },
  {
   "cell_type": "code",
   "execution_count": 203,
   "id": "68d2b724",
   "metadata": {},
   "outputs": [],
   "source": [
    "def preprocessing(df):\n",
    "    \n",
    "    \n",
    "    \n",
    "    # Drop top 0.5% of price (outliers)\n",
    "    df = df[df['Price'] < df['Price'].quantile(0.995)]\n",
    "    \n",
    "    df.dropna(inplace=True)\n",
    "    \n",
    "    # Create Trip column for Source to Dest\n",
    "    df['Trip'] = df['Source'] + ' to ' + df['Destination']\n",
    "    \n",
    "    # Drop route\n",
    "    df.drop('Route',axis=1,inplace=True)\n",
    "    \n",
    "    # Change Date_of_Journey to datetime obj\n",
    "    df['Date_of_Journey'] = df['Date_of_Journey'].apply(lambda x: pd.to_datetime(x,infer_datetime_format=True))\n",
    "    \n",
    "    # Create month/day/hour columns\n",
    "    df['Dep_Month'] = df['Date_of_Journey'].apply(lambda x:x.month)\n",
    "    df['Dep_Day'] = df['Date_of_Journey'].apply(lambda x:x.day)\n",
    "    df['Dep_Hr'] = df['Dep_Time'].apply(lambda x: pd.to_datetime(x))\n",
    "    df['Dep_Hr'] = df['Dep_Hr'].apply(lambda x: x.hour)\n",
    "    \n",
    "    # Change arrival time to arrival hour\n",
    "    df['Arrival_Hr'] = df['Arrival_Time'].apply(lambda x: pd.to_datetime(x))\n",
    "    df['Arrival_Hr'] = df['Arrival_Hr'].apply(lambda x: x.hour)\n",
    "\n",
    "    # Drop Arrival time columns\n",
    "    df.drop('Arrival_Time',axis=1,inplace=True)\n",
    "    \n",
    "    # drop Date_of_Journey column\n",
    "    df.drop('Date_of_Journey',axis=1,inplace=True)\n",
    "    \n",
    "    # drop Dep_Time column\n",
    "    df.drop('Dep_Time',axis=1,inplace = True)\n",
    "    \n",
    "    # Change duration to Dur_Hrs\n",
    "    df['Dur_Hrs'] = df['Duration'].apply(lambda x: x.split('h')[0])\n",
    "    df['Dur_Hrs'] = df['Dur_Hrs'].apply(time_fix)\n",
    "    \n",
    "    df.drop('Duration',axis=1,inplace=True)\n",
    "    \n",
    "    # Change total stops to number\n",
    "    df['Total_Stops'] = df['Total_Stops'].apply(lambda x: 0 if x == 'non-stop' else int(x[0]))\n",
    "    \n",
    "    # Fix no info\n",
    "    df = df.replace('No Info','No info')\n",
    "    \n",
    "    # Slim the categories on Additional_Info by using Other\n",
    "    df['Additional_Info'] = df['Additional_Info'].apply(add_info_fix)\n",
    "    \n",
    "    # Fix Airline to slim categories and group low items as other\n",
    "    df['Airline'] = df['Airline'].apply(airline_fix)\n",
    "    \n",
    "    #Get dummies\n",
    "    df = pd.get_dummies(data=df,columns=['Airline', 'Source', 'Destination','Additional_Info','Trip'],drop_first=True)\n",
    "    \n",
    "\n",
    "    \n",
    "    \n",
    "    return df"
   ]
  },
  {
   "cell_type": "markdown",
   "id": "fd075287",
   "metadata": {},
   "source": [
    "# EDA"
   ]
  },
  {
   "cell_type": "markdown",
   "id": "b0269549",
   "metadata": {},
   "source": [
    "### Exploring Price based on 'Source to Dest' combo"
   ]
  },
  {
   "cell_type": "code",
   "execution_count": 12,
   "id": "1a8508a7",
   "metadata": {},
   "outputs": [
    {
     "data": {
      "text/plain": [
       "<AxesSubplot:xlabel='Trip'>"
      ]
     },
     "execution_count": 12,
     "metadata": {},
     "output_type": "execute_result"
    },
    {
     "data": {
      "image/png": "[encoded data removed]",
      "text/plain": [
       "<Figure size 432x288 with 1 Axes>"
      ]
     },
     "metadata": {
      "needs_background": "light"
     },
     "output_type": "display_data"
    }
   ],
   "source": [
    "train.groupby('Trip')['Price'].mean().sort_values(ascending=False).plot(kind='bar')"
   ]
  },
  {
   "cell_type": "code",
   "execution_count": 225,
   "id": "8e755b32",
   "metadata": {},
   "outputs": [
    {
     "data": {
      "text/plain": [
       "<AxesSubplot:xlabel='Source'>"
      ]
     },
     "execution_count": 225,
     "metadata": {},
     "output_type": "execute_result"
    },
    {
     "data": {
      "image/png": "[encoded data removed]",
      "text/plain": [
       "<Figure size 432x288 with 1 Axes>"
      ]
     },
     "metadata": {
      "needs_background": "light"
     },
     "output_type": "display_data"
    }
   ],
   "source": [
    "train.groupby('Source')['Price'].mean().sort_values(ascending=False).plot(kind='bar')"
   ]
  },
  {
   "cell_type": "code",
   "execution_count": 226,
   "id": "3fcd89fb",
   "metadata": {},
   "outputs": [
    {
     "data": {
      "text/plain": [
       "<AxesSubplot:xlabel='Destination'>"
      ]
     },
     "execution_count": 226,
     "metadata": {},
     "output_type": "execute_result"
    },
    {
     "data": {
      "image/png": "[encoded data removed]",
      "text/plain": [
       "<Figure size 432x288 with 1 Axes>"
      ]
     },
     "metadata": {
      "needs_background": "light"
     },
     "output_type": "display_data"
    }
   ],
   "source": [
    "train.groupby('Destination')['Price'].mean().sort_values(ascending=False).plot(kind='bar')"
   ]
  },
  {
   "cell_type": "code",
   "execution_count": 281,
   "id": "5bcb4619",
   "metadata": {},
   "outputs": [
    {
     "data": {
      "text/plain": [
       "<seaborn.axisgrid.FacetGrid at 0x21b5c7610a0>"
      ]
     },
     "execution_count": 281,
     "metadata": {},
     "output_type": "execute_result"
    },
    {
     "data": {
      "image/png": "[encoded data removed]",
      "text/plain": [
       "<Figure size 360x360 with 1 Axes>"
      ]
     },
     "metadata": {
      "needs_background": "light"
     },
     "output_type": "display_data"
    }
   ],
   "source": [
    "sns.displot(data = train, x = 'Price',kde=True)"
   ]
  },
  {
   "cell_type": "code",
   "execution_count": 258,
   "id": "2e249db9",
   "metadata": {},
   "outputs": [
    {
     "data": {
      "text/plain": [
       "<AxesSubplot:xlabel='Dur_Hrs'>"
      ]
     },
     "execution_count": 258,
     "metadata": {},
     "output_type": "execute_result"
    },
    {
     "data": {
      "image/png": "[encoded data removed]",
      "text/plain": [
       "<Figure size 432x288 with 1 Axes>"
      ]
     },
     "metadata": {
      "needs_background": "light"
     },
     "output_type": "display_data"
    }
   ],
   "source": [
    "train.groupby('Dur_Hrs')['Price'].mean().plot()"
   ]
  },
  {
   "cell_type": "code",
   "execution_count": 301,
   "id": "cbd2d753",
   "metadata": {},
   "outputs": [
    {
     "data": {
      "text/plain": [
       "Text(0.5, 1.0, 'Ave Price by Month')"
      ]
     },
     "execution_count": 301,
     "metadata": {},
     "output_type": "execute_result"
    },
    {
     "data": {
      "image/png": "[encoded data removed]",
      "text/plain": [
       "<Figure size 432x288 with 1 Axes>"
      ]
     },
     "metadata": {
      "needs_background": "light"
     },
     "output_type": "display_data"
    }
   ],
   "source": [
    "sns.lineplot(data=train,x='Dep_Month',y='Price')\n",
    "plt.title('Ave Price by Month')"
   ]
  },
  {
   "cell_type": "code",
   "execution_count": 302,
   "id": "4d7ab87a",
   "metadata": {},
   "outputs": [
    {
     "data": {
      "text/plain": [
       "Text(0.5, 1.0, 'Ave Price by Hr')"
      ]
     },
     "execution_count": 302,
     "metadata": {},
     "output_type": "execute_result"
    },
    {
     "data": {
      "image/png": "[encoded data removed]",
      "text/plain": [
       "<Figure size 432x288 with 1 Axes>"
      ]
     },
     "metadata": {
      "needs_background": "light"
     },
     "output_type": "display_data"
    }
   ],
   "source": [
    "sns.lineplot(data=train,x='Dep_Hr',y='Price')\n",
    "plt.title('Ave Price by Hr')"
   ]
  },
  {
   "cell_type": "code",
   "execution_count": 303,
   "id": "30e2b097",
   "metadata": {},
   "outputs": [
    {
     "data": {
      "text/plain": [
       "Text(0.5, 1.0, 'Ave Price by Day')"
      ]
     },
     "execution_count": 303,
     "metadata": {},
     "output_type": "execute_result"
    },
    {
     "data": {
      "image/png": "[encoded data removed]",
      "text/plain": [
       "<Figure size 432x288 with 1 Axes>"
      ]
     },
     "metadata": {
      "needs_background": "light"
     },
     "output_type": "display_data"
    }
   ],
   "source": [
    "sns.lineplot(data=train,x='Dep_Day',y='Price')\n",
    "plt.title('Ave Price by Day')"
   ]
  },
  {
   "cell_type": "code",
   "execution_count": 209,
   "id": "8e344535",
   "metadata": {},
   "outputs": [],
   "source": [
    "abt = preprocessing(train)"
   ]
  },
  {
   "cell_type": "code",
   "execution_count": 210,
   "id": "bd2d3542",
   "metadata": {},
   "outputs": [
    {
     "data": {
      "text/html": [
       "<div>\n",
       "<style scoped>\n",
       "    .dataframe tbody tr th:only-of-type {\n",
       "        vertical-align: middle;\n",
       "    }\n",
       "\n",
       "    .dataframe tbody tr th {\n",
       "        vertical-align: top;\n",
       "    }\n",
       "\n",
       "    .dataframe thead th {\n",
       "        text-align: right;\n",
       "    }\n",
       "</style>\n",
       "<table border=\"1\" class=\"dataframe\">\n",
       "  <thead>\n",
       "    <tr style=\"text-align: right;\">\n",
       "      <th></th>\n",
       "      <th>Total_Stops</th>\n",
       "      <th>Price</th>\n",
       "      <th>Dep_Month</th>\n",
       "      <th>Dep_Day</th>\n",
       "      <th>Dep_Hr</th>\n",
       "      <th>Arrival_Hr</th>\n",
       "      <th>Dur_Hrs</th>\n",
       "      <th>Airline_Air India</th>\n",
       "      <th>Airline_GoAir</th>\n",
       "      <th>Airline_IndiGo</th>\n",
       "      <th>...</th>\n",
       "      <th>Additional_Info_Change airports</th>\n",
       "      <th>Additional_Info_In-flight meal not included</th>\n",
       "      <th>Additional_Info_No check-in baggage included</th>\n",
       "      <th>Additional_Info_No info</th>\n",
       "      <th>Additional_Info_Other</th>\n",
       "      <th>Trip_Banglore to New Delhi</th>\n",
       "      <th>Trip_Chennai to Kolkata</th>\n",
       "      <th>Trip_Delhi to Cochin</th>\n",
       "      <th>Trip_Kolkata to Banglore</th>\n",
       "      <th>Trip_Mumbai to Hyderabad</th>\n",
       "    </tr>\n",
       "  </thead>\n",
       "  <tbody>\n",
       "    <tr>\n",
       "      <th>0</th>\n",
       "      <td>0</td>\n",
       "      <td>3897</td>\n",
       "      <td>3</td>\n",
       "      <td>24</td>\n",
       "      <td>22</td>\n",
       "      <td>1</td>\n",
       "      <td>2</td>\n",
       "      <td>0</td>\n",
       "      <td>0</td>\n",
       "      <td>1</td>\n",
       "      <td>...</td>\n",
       "      <td>0</td>\n",
       "      <td>0</td>\n",
       "      <td>0</td>\n",
       "      <td>1</td>\n",
       "      <td>0</td>\n",
       "      <td>1</td>\n",
       "      <td>0</td>\n",
       "      <td>0</td>\n",
       "      <td>0</td>\n",
       "      <td>0</td>\n",
       "    </tr>\n",
       "    <tr>\n",
       "      <th>1</th>\n",
       "      <td>2</td>\n",
       "      <td>7662</td>\n",
       "      <td>1</td>\n",
       "      <td>5</td>\n",
       "      <td>5</td>\n",
       "      <td>13</td>\n",
       "      <td>7</td>\n",
       "      <td>1</td>\n",
       "      <td>0</td>\n",
       "      <td>0</td>\n",
       "      <td>...</td>\n",
       "      <td>0</td>\n",
       "      <td>0</td>\n",
       "      <td>0</td>\n",
       "      <td>1</td>\n",
       "      <td>0</td>\n",
       "      <td>0</td>\n",
       "      <td>0</td>\n",
       "      <td>0</td>\n",
       "      <td>1</td>\n",
       "      <td>0</td>\n",
       "    </tr>\n",
       "    <tr>\n",
       "      <th>2</th>\n",
       "      <td>2</td>\n",
       "      <td>13882</td>\n",
       "      <td>9</td>\n",
       "      <td>6</td>\n",
       "      <td>9</td>\n",
       "      <td>4</td>\n",
       "      <td>19</td>\n",
       "      <td>0</td>\n",
       "      <td>0</td>\n",
       "      <td>0</td>\n",
       "      <td>...</td>\n",
       "      <td>0</td>\n",
       "      <td>0</td>\n",
       "      <td>0</td>\n",
       "      <td>1</td>\n",
       "      <td>0</td>\n",
       "      <td>0</td>\n",
       "      <td>0</td>\n",
       "      <td>1</td>\n",
       "      <td>0</td>\n",
       "      <td>0</td>\n",
       "    </tr>\n",
       "    <tr>\n",
       "      <th>3</th>\n",
       "      <td>1</td>\n",
       "      <td>6218</td>\n",
       "      <td>12</td>\n",
       "      <td>5</td>\n",
       "      <td>18</td>\n",
       "      <td>23</td>\n",
       "      <td>5</td>\n",
       "      <td>0</td>\n",
       "      <td>0</td>\n",
       "      <td>1</td>\n",
       "      <td>...</td>\n",
       "      <td>0</td>\n",
       "      <td>0</td>\n",
       "      <td>0</td>\n",
       "      <td>1</td>\n",
       "      <td>0</td>\n",
       "      <td>0</td>\n",
       "      <td>0</td>\n",
       "      <td>0</td>\n",
       "      <td>1</td>\n",
       "      <td>0</td>\n",
       "    </tr>\n",
       "    <tr>\n",
       "      <th>4</th>\n",
       "      <td>1</td>\n",
       "      <td>13302</td>\n",
       "      <td>1</td>\n",
       "      <td>3</td>\n",
       "      <td>16</td>\n",
       "      <td>21</td>\n",
       "      <td>4</td>\n",
       "      <td>0</td>\n",
       "      <td>0</td>\n",
       "      <td>1</td>\n",
       "      <td>...</td>\n",
       "      <td>0</td>\n",
       "      <td>0</td>\n",
       "      <td>0</td>\n",
       "      <td>1</td>\n",
       "      <td>0</td>\n",
       "      <td>1</td>\n",
       "      <td>0</td>\n",
       "      <td>0</td>\n",
       "      <td>0</td>\n",
       "      <td>0</td>\n",
       "    </tr>\n",
       "  </tbody>\n",
       "</table>\n",
       "<p>5 rows × 34 columns</p>\n",
       "</div>"
      ],
      "text/plain": [
       "   Total_Stops  Price  Dep_Month  Dep_Day  Dep_Hr  Arrival_Hr  Dur_Hrs  \\\n",
       "0            0   3897          3       24      22           1        2   \n",
       "1            2   7662          1        5       5          13        7   \n",
       "2            2  13882          9        6       9           4       19   \n",
       "3            1   6218         12        5      18          23        5   \n",
       "4            1  13302          1        3      16          21        4   \n",
       "\n",
       "   Airline_Air India  Airline_GoAir  Airline_IndiGo  ...  \\\n",
       "0                  0              0               1  ...   \n",
       "1                  1              0               0  ...   \n",
       "2                  0              0               0  ...   \n",
       "3                  0              0               1  ...   \n",
       "4                  0              0               1  ...   \n",
       "\n",
       "   Additional_Info_Change airports  \\\n",
       "0                                0   \n",
       "1                                0   \n",
       "2                                0   \n",
       "3                                0   \n",
       "4                                0   \n",
       "\n",
       "   Additional_Info_In-flight meal not included  \\\n",
       "0                                            0   \n",
       "1                                            0   \n",
       "2                                            0   \n",
       "3                                            0   \n",
       "4                                            0   \n",
       "\n",
       "   Additional_Info_No check-in baggage included  Additional_Info_No info  \\\n",
       "0                                             0                        1   \n",
       "1                                             0                        1   \n",
       "2                                             0                        1   \n",
       "3                                             0                        1   \n",
       "4                                             0                        1   \n",
       "\n",
       "   Additional_Info_Other  Trip_Banglore to New Delhi  Trip_Chennai to Kolkata  \\\n",
       "0                      0                           1                        0   \n",
       "1                      0                           0                        0   \n",
       "2                      0                           0                        0   \n",
       "3                      0                           0                        0   \n",
       "4                      0                           1                        0   \n",
       "\n",
       "   Trip_Delhi to Cochin  Trip_Kolkata to Banglore  Trip_Mumbai to Hyderabad  \n",
       "0                     0                         0                         0  \n",
       "1                     0                         1                         0  \n",
       "2                     1                         0                         0  \n",
       "3                     0                         1                         0  \n",
       "4                     0                         0                         0  \n",
       "\n",
       "[5 rows x 34 columns]"
      ]
     },
     "execution_count": 210,
     "metadata": {},
     "output_type": "execute_result"
    }
   ],
   "source": [
    "abt.head()"
   ]
  },
  {
   "cell_type": "code",
   "execution_count": 211,
   "id": "15878594",
   "metadata": {},
   "outputs": [
    {
     "name": "stdout",
     "output_type": "stream",
     "text": [
      "<class 'pandas.core.frame.DataFrame'>\n",
      "Int64Index: 10618 entries, 0 to 10682\n",
      "Data columns (total 34 columns):\n",
      " #   Column                                        Non-Null Count  Dtype\n",
      "---  ------                                        --------------  -----\n",
      " 0   Total_Stops                                   10618 non-null  int64\n",
      " 1   Price                                         10618 non-null  int64\n",
      " 2   Dep_Month                                     10618 non-null  int64\n",
      " 3   Dep_Day                                       10618 non-null  int64\n",
      " 4   Dep_Hr                                        10618 non-null  int64\n",
      " 5   Arrival_Hr                                    10618 non-null  int64\n",
      " 6   Dur_Hrs                                       10618 non-null  int64\n",
      " 7   Airline_Air India                             10618 non-null  uint8\n",
      " 8   Airline_GoAir                                 10618 non-null  uint8\n",
      " 9   Airline_IndiGo                                10618 non-null  uint8\n",
      " 10  Airline_Jet Airways                           10618 non-null  uint8\n",
      " 11  Airline_Multiple carriers                     10618 non-null  uint8\n",
      " 12  Airline_Other                                 10618 non-null  uint8\n",
      " 13  Airline_SpiceJet                              10618 non-null  uint8\n",
      " 14  Airline_Vistara                               10618 non-null  uint8\n",
      " 15  Source_Chennai                                10618 non-null  uint8\n",
      " 16  Source_Delhi                                  10618 non-null  uint8\n",
      " 17  Source_Kolkata                                10618 non-null  uint8\n",
      " 18  Source_Mumbai                                 10618 non-null  uint8\n",
      " 19  Destination_Cochin                            10618 non-null  uint8\n",
      " 20  Destination_Delhi                             10618 non-null  uint8\n",
      " 21  Destination_Hyderabad                         10618 non-null  uint8\n",
      " 22  Destination_Kolkata                           10618 non-null  uint8\n",
      " 23  Destination_New Delhi                         10618 non-null  uint8\n",
      " 24  Additional_Info_Change airports               10618 non-null  uint8\n",
      " 25  Additional_Info_In-flight meal not included   10618 non-null  uint8\n",
      " 26  Additional_Info_No check-in baggage included  10618 non-null  uint8\n",
      " 27  Additional_Info_No info                       10618 non-null  uint8\n",
      " 28  Additional_Info_Other                         10618 non-null  uint8\n",
      " 29  Trip_Banglore to New Delhi                    10618 non-null  uint8\n",
      " 30  Trip_Chennai to Kolkata                       10618 non-null  uint8\n",
      " 31  Trip_Delhi to Cochin                          10618 non-null  uint8\n",
      " 32  Trip_Kolkata to Banglore                      10618 non-null  uint8\n",
      " 33  Trip_Mumbai to Hyderabad                      10618 non-null  uint8\n",
      "dtypes: int64(7), uint8(27)\n",
      "memory usage: 943.6 KB\n"
     ]
    }
   ],
   "source": [
    "abt.info()"
   ]
  },
  {
   "cell_type": "markdown",
   "id": "f64b85e4",
   "metadata": {},
   "source": [
    "### Imports for models, train-test-split, metrics"
   ]
  },
  {
   "cell_type": "code",
   "execution_count": 158,
   "id": "97bd63cc",
   "metadata": {},
   "outputs": [],
   "source": [
    "from sklearn.model_selection import train_test_split, GridSearchCV\n",
    "from sklearn.linear_model import LinearRegression\n",
    "from sklearn.metrics import mean_squared_error, mean_absolute_error\n",
    "from sklearn.ensemble import RandomForestRegressor\n"
   ]
  },
  {
   "cell_type": "code",
   "execution_count": 159,
   "id": "03c9bc1c",
   "metadata": {},
   "outputs": [],
   "source": [
    "X = abt.drop('Price',axis=1)\n",
    "y = abt['Price']"
   ]
  },
  {
   "cell_type": "markdown",
   "id": "2834acd6",
   "metadata": {},
   "source": [
    "### Split into training and validation sets"
   ]
  },
  {
   "cell_type": "code",
   "execution_count": 160,
   "id": "abe915e0",
   "metadata": {},
   "outputs": [],
   "source": [
    "X_train, X_test, y_train, y_test = train_test_split(X, y, test_size=0.3, random_state=42)"
   ]
  },
  {
   "cell_type": "markdown",
   "id": "2b6f2009",
   "metadata": {},
   "source": [
    "### define parameter grid for cross-validation, tuning of hyperparameters"
   ]
  },
  {
   "cell_type": "code",
   "execution_count": 198,
   "id": "bece041b",
   "metadata": {},
   "outputs": [],
   "source": [
    "params = {\n",
    "    'n_estimators':[100,200,300],\n",
    "    'max_depth': [30,40,50],\n",
    "    'min_samples_split': [2,3],\n",
    "    'min_samples_leaf': [1,2]\n",
    "}"
   ]
  },
  {
   "cell_type": "code",
   "execution_count": 82,
   "id": "244231a7",
   "metadata": {},
   "outputs": [],
   "source": [
    "rfr = GridSearchCV(\n",
    "    RandomForestRegressor(random_state=42),\n",
    "    param_grid=params,\n",
    "    cv=5,\n",
    "    n_jobs=-1,\n",
    "    verbose=3)\n",
    "\n",
    "rfr.fit(X_train,y_train)"
   ]
  },
  {
   "cell_type": "markdown",
   "id": "e544b77b",
   "metadata": {},
   "source": [
    "### display results sorted by rank test score"
   ]
  },
  {
   "cell_type": "code",
   "execution_count": 84,
   "id": "1a2f81db",
   "metadata": {},
   "outputs": [
    {
     "data": {
      "text/html": [
       "<div>\n",
       "<style scoped>\n",
       "    .dataframe tbody tr th:only-of-type {\n",
       "        vertical-align: middle;\n",
       "    }\n",
       "\n",
       "    .dataframe tbody tr th {\n",
       "        vertical-align: top;\n",
       "    }\n",
       "\n",
       "    .dataframe thead th {\n",
       "        text-align: right;\n",
       "    }\n",
       "</style>\n",
       "<table border=\"1\" class=\"dataframe\">\n",
       "  <thead>\n",
       "    <tr style=\"text-align: right;\">\n",
       "      <th></th>\n",
       "      <th>mean_fit_time</th>\n",
       "      <th>std_fit_time</th>\n",
       "      <th>mean_score_time</th>\n",
       "      <th>std_score_time</th>\n",
       "      <th>param_max_depth</th>\n",
       "      <th>param_min_samples_leaf</th>\n",
       "      <th>param_min_samples_split</th>\n",
       "      <th>param_n_estimators</th>\n",
       "      <th>params</th>\n",
       "      <th>split0_test_score</th>\n",
       "      <th>split1_test_score</th>\n",
       "      <th>split2_test_score</th>\n",
       "      <th>split3_test_score</th>\n",
       "      <th>split4_test_score</th>\n",
       "      <th>mean_test_score</th>\n",
       "      <th>std_test_score</th>\n",
       "      <th>rank_test_score</th>\n",
       "    </tr>\n",
       "  </thead>\n",
       "  <tbody>\n",
       "    <tr>\n",
       "      <th>28</th>\n",
       "      <td>5.689083</td>\n",
       "      <td>0.197748</td>\n",
       "      <td>0.109333</td>\n",
       "      <td>0.009931</td>\n",
       "      <td>50</td>\n",
       "      <td>1</td>\n",
       "      <td>3</td>\n",
       "      <td>200</td>\n",
       "      <td>{'max_depth': 50, 'min_samples_leaf': 1, 'min_...</td>\n",
       "      <td>0.885189</td>\n",
       "      <td>0.883467</td>\n",
       "      <td>0.897752</td>\n",
       "      <td>0.891986</td>\n",
       "      <td>0.899455</td>\n",
       "      <td>0.891570</td>\n",
       "      <td>0.006433</td>\n",
       "      <td>1</td>\n",
       "    </tr>\n",
       "    <tr>\n",
       "      <th>16</th>\n",
       "      <td>6.153616</td>\n",
       "      <td>0.125996</td>\n",
       "      <td>0.128767</td>\n",
       "      <td>0.017566</td>\n",
       "      <td>40</td>\n",
       "      <td>1</td>\n",
       "      <td>3</td>\n",
       "      <td>200</td>\n",
       "      <td>{'max_depth': 40, 'min_samples_leaf': 1, 'min_...</td>\n",
       "      <td>0.885189</td>\n",
       "      <td>0.883467</td>\n",
       "      <td>0.897752</td>\n",
       "      <td>0.891986</td>\n",
       "      <td>0.899455</td>\n",
       "      <td>0.891570</td>\n",
       "      <td>0.006433</td>\n",
       "      <td>1</td>\n",
       "    </tr>\n",
       "    <tr>\n",
       "      <th>4</th>\n",
       "      <td>6.536516</td>\n",
       "      <td>0.444127</td>\n",
       "      <td>0.120080</td>\n",
       "      <td>0.016383</td>\n",
       "      <td>30</td>\n",
       "      <td>1</td>\n",
       "      <td>3</td>\n",
       "      <td>200</td>\n",
       "      <td>{'max_depth': 30, 'min_samples_leaf': 1, 'min_...</td>\n",
       "      <td>0.885179</td>\n",
       "      <td>0.883448</td>\n",
       "      <td>0.897743</td>\n",
       "      <td>0.891984</td>\n",
       "      <td>0.899445</td>\n",
       "      <td>0.891560</td>\n",
       "      <td>0.006436</td>\n",
       "      <td>3</td>\n",
       "    </tr>\n",
       "    <tr>\n",
       "      <th>17</th>\n",
       "      <td>9.355067</td>\n",
       "      <td>0.160654</td>\n",
       "      <td>0.183437</td>\n",
       "      <td>0.018808</td>\n",
       "      <td>40</td>\n",
       "      <td>1</td>\n",
       "      <td>3</td>\n",
       "      <td>300</td>\n",
       "      <td>{'max_depth': 40, 'min_samples_leaf': 1, 'min_...</td>\n",
       "      <td>0.884990</td>\n",
       "      <td>0.882744</td>\n",
       "      <td>0.897700</td>\n",
       "      <td>0.891812</td>\n",
       "      <td>0.900241</td>\n",
       "      <td>0.891497</td>\n",
       "      <td>0.006841</td>\n",
       "      <td>4</td>\n",
       "    </tr>\n",
       "    <tr>\n",
       "      <th>29</th>\n",
       "      <td>8.762255</td>\n",
       "      <td>0.342585</td>\n",
       "      <td>0.161095</td>\n",
       "      <td>0.003532</td>\n",
       "      <td>50</td>\n",
       "      <td>1</td>\n",
       "      <td>3</td>\n",
       "      <td>300</td>\n",
       "      <td>{'max_depth': 50, 'min_samples_leaf': 1, 'min_...</td>\n",
       "      <td>0.884990</td>\n",
       "      <td>0.882744</td>\n",
       "      <td>0.897700</td>\n",
       "      <td>0.891812</td>\n",
       "      <td>0.900241</td>\n",
       "      <td>0.891497</td>\n",
       "      <td>0.006841</td>\n",
       "      <td>4</td>\n",
       "    </tr>\n",
       "  </tbody>\n",
       "</table>\n",
       "</div>"
      ],
      "text/plain": [
       "    mean_fit_time  std_fit_time  mean_score_time  std_score_time  \\\n",
       "28       5.689083      0.197748         0.109333        0.009931   \n",
       "16       6.153616      0.125996         0.128767        0.017566   \n",
       "4        6.536516      0.444127         0.120080        0.016383   \n",
       "17       9.355067      0.160654         0.183437        0.018808   \n",
       "29       8.762255      0.342585         0.161095        0.003532   \n",
       "\n",
       "   param_max_depth param_min_samples_leaf param_min_samples_split  \\\n",
       "28              50                      1                       3   \n",
       "16              40                      1                       3   \n",
       "4               30                      1                       3   \n",
       "17              40                      1                       3   \n",
       "29              50                      1                       3   \n",
       "\n",
       "   param_n_estimators                                             params  \\\n",
       "28                200  {'max_depth': 50, 'min_samples_leaf': 1, 'min_...   \n",
       "16                200  {'max_depth': 40, 'min_samples_leaf': 1, 'min_...   \n",
       "4                 200  {'max_depth': 30, 'min_samples_leaf': 1, 'min_...   \n",
       "17                300  {'max_depth': 40, 'min_samples_leaf': 1, 'min_...   \n",
       "29                300  {'max_depth': 50, 'min_samples_leaf': 1, 'min_...   \n",
       "\n",
       "    split0_test_score  split1_test_score  split2_test_score  \\\n",
       "28           0.885189           0.883467           0.897752   \n",
       "16           0.885189           0.883467           0.897752   \n",
       "4            0.885179           0.883448           0.897743   \n",
       "17           0.884990           0.882744           0.897700   \n",
       "29           0.884990           0.882744           0.897700   \n",
       "\n",
       "    split3_test_score  split4_test_score  mean_test_score  std_test_score  \\\n",
       "28           0.891986           0.899455         0.891570        0.006433   \n",
       "16           0.891986           0.899455         0.891570        0.006433   \n",
       "4            0.891984           0.899445         0.891560        0.006436   \n",
       "17           0.891812           0.900241         0.891497        0.006841   \n",
       "29           0.891812           0.900241         0.891497        0.006841   \n",
       "\n",
       "    rank_test_score  \n",
       "28                1  \n",
       "16                1  \n",
       "4                 3  \n",
       "17                4  \n",
       "29                4  "
      ]
     },
     "execution_count": 84,
     "metadata": {},
     "output_type": "execute_result"
    }
   ],
   "source": [
    "cv_results = pd.DataFrame(rfr.cv_results_)\n",
    "cv_results.sort_values('rank_test_score').head()"
   ]
  },
  {
   "cell_type": "markdown",
   "id": "bf9cf7c8",
   "metadata": {},
   "source": [
    "### create model with best hyperparameters"
   ]
  },
  {
   "cell_type": "code",
   "execution_count": 167,
   "id": "e1e66568",
   "metadata": {},
   "outputs": [],
   "source": [
    "rfr2 = RandomForestRegressor(n_estimators=200,max_depth=50,min_samples_split=3,min_samples_leaf=1)"
   ]
  },
  {
   "cell_type": "code",
   "execution_count": 170,
   "id": "26cf04cb",
   "metadata": {},
   "outputs": [
    {
     "data": {
      "text/plain": [
       "RandomForestRegressor(max_depth=50, min_samples_split=3, n_estimators=200)"
      ]
     },
     "execution_count": 170,
     "metadata": {},
     "output_type": "execute_result"
    }
   ],
   "source": [
    "rfr2.fit(X_train,y_train)"
   ]
  },
  {
   "cell_type": "markdown",
   "id": "8439aeba",
   "metadata": {},
   "source": [
    "### use model to predict on validation set"
   ]
  },
  {
   "cell_type": "code",
   "execution_count": 172,
   "id": "83bfd168",
   "metadata": {},
   "outputs": [],
   "source": [
    "preds = rfr2.predict(X_test)"
   ]
  },
  {
   "cell_type": "markdown",
   "id": "39916a23",
   "metadata": {},
   "source": [
    "### evaluate predictions"
   ]
  },
  {
   "cell_type": "code",
   "execution_count": 173,
   "id": "3e37abf9",
   "metadata": {},
   "outputs": [
    {
     "name": "stdout",
     "output_type": "stream",
     "text": [
      "MAE:  754.8350836628629\n",
      "RMSE:  1384.4552044969062\n",
      "MSE:  1916716.2132585703\n"
     ]
    }
   ],
   "source": [
    "print('MAE: ',mean_absolute_error(y_test,preds))\n",
    "print('RMSE: ',np.sqrt(mean_squared_error(y_test,preds)))\n",
    "print('MSE: ',mean_squared_error(y_test,preds))"
   ]
  },
  {
   "cell_type": "code",
   "execution_count": 174,
   "id": "a6c5878a",
   "metadata": {},
   "outputs": [
    {
     "data": {
      "text/plain": [
       "<matplotlib.collections.PathCollection at 0x1d55512bac0>"
      ]
     },
     "execution_count": 174,
     "metadata": {},
     "output_type": "execute_result"
    },
    {
     "data": {
      "image/png": "[encoded data removed]",
      "text/plain": [
       "<Figure size 432x288 with 1 Axes>"
      ]
     },
     "metadata": {
      "needs_background": "light"
     },
     "output_type": "display_data"
    }
   ],
   "source": [
    "plt.scatter(y_test,preds)"
   ]
  },
  {
   "cell_type": "code",
   "execution_count": 175,
   "id": "3d00772a",
   "metadata": {},
   "outputs": [
    {
     "data": {
      "text/plain": [
       "<seaborn.axisgrid.FacetGrid at 0x1d554dd2040>"
      ]
     },
     "execution_count": 175,
     "metadata": {},
     "output_type": "execute_result"
    },
    {
     "data": {
      "image/png": "[encoded data removed]",
      "text/plain": [
       "<Figure size 360x360 with 1 Axes>"
      ]
     },
     "metadata": {
      "needs_background": "light"
     },
     "output_type": "display_data"
    }
   ],
   "source": [
    "sns.displot((y_test-preds),bins=50,kde=True)"
   ]
  },
  {
   "cell_type": "code",
   "execution_count": 176,
   "id": "8ce5818b",
   "metadata": {},
   "outputs": [],
   "source": [
    "results_df = pd.DataFrame({'actual':y_test,'predictions':preds})"
   ]
  },
  {
   "cell_type": "code",
   "execution_count": 177,
   "id": "9d3cad47",
   "metadata": {},
   "outputs": [
    {
     "data": {
      "text/html": [
       "<div>\n",
       "<style scoped>\n",
       "    .dataframe tbody tr th:only-of-type {\n",
       "        vertical-align: middle;\n",
       "    }\n",
       "\n",
       "    .dataframe tbody tr th {\n",
       "        vertical-align: top;\n",
       "    }\n",
       "\n",
       "    .dataframe thead th {\n",
       "        text-align: right;\n",
       "    }\n",
       "</style>\n",
       "<table border=\"1\" class=\"dataframe\">\n",
       "  <thead>\n",
       "    <tr style=\"text-align: right;\">\n",
       "      <th></th>\n",
       "      <th>actual</th>\n",
       "      <th>predictions</th>\n",
       "    </tr>\n",
       "  </thead>\n",
       "  <tbody>\n",
       "    <tr>\n",
       "      <th>2254</th>\n",
       "      <td>10844</td>\n",
       "      <td>10837.137500</td>\n",
       "    </tr>\n",
       "    <tr>\n",
       "      <th>10459</th>\n",
       "      <td>3625</td>\n",
       "      <td>3120.037500</td>\n",
       "    </tr>\n",
       "    <tr>\n",
       "      <th>368</th>\n",
       "      <td>5162</td>\n",
       "      <td>5316.977821</td>\n",
       "    </tr>\n",
       "    <tr>\n",
       "      <th>9536</th>\n",
       "      <td>3419</td>\n",
       "      <td>3973.638333</td>\n",
       "    </tr>\n",
       "    <tr>\n",
       "      <th>3094</th>\n",
       "      <td>5998</td>\n",
       "      <td>6464.552917</td>\n",
       "    </tr>\n",
       "    <tr>\n",
       "      <th>10451</th>\n",
       "      <td>10844</td>\n",
       "      <td>10810.445000</td>\n",
       "    </tr>\n",
       "    <tr>\n",
       "      <th>7365</th>\n",
       "      <td>10756</td>\n",
       "      <td>10602.506750</td>\n",
       "    </tr>\n",
       "    <tr>\n",
       "      <th>8556</th>\n",
       "      <td>15136</td>\n",
       "      <td>15806.526714</td>\n",
       "    </tr>\n",
       "    <tr>\n",
       "      <th>7471</th>\n",
       "      <td>10262</td>\n",
       "      <td>10262.000000</td>\n",
       "    </tr>\n",
       "    <tr>\n",
       "      <th>10358</th>\n",
       "      <td>11982</td>\n",
       "      <td>11982.000000</td>\n",
       "    </tr>\n",
       "    <tr>\n",
       "      <th>8432</th>\n",
       "      <td>4409</td>\n",
       "      <td>4458.779833</td>\n",
       "    </tr>\n",
       "    <tr>\n",
       "      <th>8989</th>\n",
       "      <td>14871</td>\n",
       "      <td>13478.836726</td>\n",
       "    </tr>\n",
       "    <tr>\n",
       "      <th>4860</th>\n",
       "      <td>6600</td>\n",
       "      <td>6741.428524</td>\n",
       "    </tr>\n",
       "    <tr>\n",
       "      <th>7551</th>\n",
       "      <td>10975</td>\n",
       "      <td>11206.404667</td>\n",
       "    </tr>\n",
       "    <tr>\n",
       "      <th>5286</th>\n",
       "      <td>9314</td>\n",
       "      <td>9018.030917</td>\n",
       "    </tr>\n",
       "    <tr>\n",
       "      <th>8004</th>\n",
       "      <td>17261</td>\n",
       "      <td>16048.629167</td>\n",
       "    </tr>\n",
       "    <tr>\n",
       "      <th>10645</th>\n",
       "      <td>17057</td>\n",
       "      <td>16079.654143</td>\n",
       "    </tr>\n",
       "    <tr>\n",
       "      <th>4847</th>\n",
       "      <td>6305</td>\n",
       "      <td>8411.809417</td>\n",
       "    </tr>\n",
       "    <tr>\n",
       "      <th>8411</th>\n",
       "      <td>5228</td>\n",
       "      <td>5815.044071</td>\n",
       "    </tr>\n",
       "    <tr>\n",
       "      <th>33</th>\n",
       "      <td>10919</td>\n",
       "      <td>10850.420417</td>\n",
       "    </tr>\n",
       "  </tbody>\n",
       "</table>\n",
       "</div>"
      ],
      "text/plain": [
       "       actual   predictions\n",
       "2254    10844  10837.137500\n",
       "10459    3625   3120.037500\n",
       "368      5162   5316.977821\n",
       "9536     3419   3973.638333\n",
       "3094     5998   6464.552917\n",
       "10451   10844  10810.445000\n",
       "7365    10756  10602.506750\n",
       "8556    15136  15806.526714\n",
       "7471    10262  10262.000000\n",
       "10358   11982  11982.000000\n",
       "8432     4409   4458.779833\n",
       "8989    14871  13478.836726\n",
       "4860     6600   6741.428524\n",
       "7551    10975  11206.404667\n",
       "5286     9314   9018.030917\n",
       "8004    17261  16048.629167\n",
       "10645   17057  16079.654143\n",
       "4847     6305   8411.809417\n",
       "8411     5228   5815.044071\n",
       "33      10919  10850.420417"
      ]
     },
     "execution_count": 177,
     "metadata": {},
     "output_type": "execute_result"
    }
   ],
   "source": [
    "results_df.head(20)"
   ]
  },
  {
   "cell_type": "markdown",
   "id": "8d98538c",
   "metadata": {},
   "source": [
    "### Get feature importances"
   ]
  },
  {
   "cell_type": "code",
   "execution_count": 104,
   "id": "bcc7ba6c",
   "metadata": {},
   "outputs": [
    {
     "data": {
      "text/plain": [
       "<AxesSubplot:>"
      ]
     },
     "execution_count": 104,
     "metadata": {},
     "output_type": "execute_result"
    },
    {
     "data": {
      "image/png": "[encoded data removed]",
      "text/plain": [
       "<Figure size 432x288 with 1 Axes>"
      ]
     },
     "metadata": {
      "needs_background": "light"
     },
     "output_type": "display_data"
    }
   ],
   "source": [
    "features = X_train.columns\n",
    "importances = rfr.best_estimator_.feature_importances_\n",
    "feat_imp = pd.Series(importances, index=features)\n",
    "\n",
    "feat_imp.sort_values().tail(10).plot(kind='barh')"
   ]
  },
  {
   "cell_type": "code",
   "execution_count": 107,
   "id": "be908691",
   "metadata": {},
   "outputs": [
    {
     "name": "stdout",
     "output_type": "stream",
     "text": [
      "MAE:  753\n",
      "RMSE:  1384\n"
     ]
    }
   ],
   "source": [
    "mae_rf = mean_absolute_error(y_test, rfr.predict(X_test))\n",
    "rmse_rf = np.sqrt(mean_squared_error(y_test, rfr.predict(X_test)))\n",
    "print('MAE: ',round(mae_rf))\n",
    "print('RMSE: ', round(rmse_rf))"
   ]
  },
  {
   "cell_type": "markdown",
   "id": "193c3a66",
   "metadata": {},
   "source": [
    "### run model on unseen test data"
   ]
  },
  {
   "cell_type": "code",
   "execution_count": 197,
   "id": "eabf95b3",
   "metadata": {},
   "outputs": [],
   "source": [
    "test_data = raw_test_data.copy()"
   ]
  },
  {
   "cell_type": "code",
   "execution_count": 181,
   "id": "1fcf6c85",
   "metadata": {},
   "outputs": [],
   "source": [
    "test_data = preprocessing(test_data)"
   ]
  },
  {
   "cell_type": "code",
   "execution_count": 182,
   "id": "2210fb6b",
   "metadata": {},
   "outputs": [],
   "source": [
    "test_preds = rfr2.predict(test_data)"
   ]
  },
  {
   "cell_type": "code",
   "execution_count": 132,
   "id": "d1267017",
   "metadata": {},
   "outputs": [
    {
     "data": {
      "text/html": [
       "<div>\n",
       "<style scoped>\n",
       "    .dataframe tbody tr th:only-of-type {\n",
       "        vertical-align: middle;\n",
       "    }\n",
       "\n",
       "    .dataframe tbody tr th {\n",
       "        vertical-align: top;\n",
       "    }\n",
       "\n",
       "    .dataframe thead th {\n",
       "        text-align: right;\n",
       "    }\n",
       "</style>\n",
       "<table border=\"1\" class=\"dataframe\">\n",
       "  <thead>\n",
       "    <tr style=\"text-align: right;\">\n",
       "      <th></th>\n",
       "      <th>Airline</th>\n",
       "      <th>Date_of_Journey</th>\n",
       "      <th>Source</th>\n",
       "      <th>Destination</th>\n",
       "      <th>Route</th>\n",
       "      <th>Dep_Time</th>\n",
       "      <th>Arrival_Time</th>\n",
       "      <th>Duration</th>\n",
       "      <th>Total_Stops</th>\n",
       "      <th>Additional_Info</th>\n",
       "    </tr>\n",
       "  </thead>\n",
       "  <tbody>\n",
       "    <tr>\n",
       "      <th>0</th>\n",
       "      <td>Jet Airways</td>\n",
       "      <td>6/06/2019</td>\n",
       "      <td>Delhi</td>\n",
       "      <td>Cochin</td>\n",
       "      <td>DEL → BOM → COK</td>\n",
       "      <td>17:30</td>\n",
       "      <td>04:25 07 Jun</td>\n",
       "      <td>10h 55m</td>\n",
       "      <td>1 stop</td>\n",
       "      <td>No info</td>\n",
       "    </tr>\n",
       "    <tr>\n",
       "      <th>1</th>\n",
       "      <td>IndiGo</td>\n",
       "      <td>12/05/2019</td>\n",
       "      <td>Kolkata</td>\n",
       "      <td>Banglore</td>\n",
       "      <td>CCU → MAA → BLR</td>\n",
       "      <td>06:20</td>\n",
       "      <td>10:20</td>\n",
       "      <td>4h</td>\n",
       "      <td>1 stop</td>\n",
       "      <td>No info</td>\n",
       "    </tr>\n",
       "    <tr>\n",
       "      <th>2</th>\n",
       "      <td>Jet Airways</td>\n",
       "      <td>21/05/2019</td>\n",
       "      <td>Delhi</td>\n",
       "      <td>Cochin</td>\n",
       "      <td>DEL → BOM → COK</td>\n",
       "      <td>19:15</td>\n",
       "      <td>19:00 22 May</td>\n",
       "      <td>23h 45m</td>\n",
       "      <td>1 stop</td>\n",
       "      <td>In-flight meal not included</td>\n",
       "    </tr>\n",
       "    <tr>\n",
       "      <th>3</th>\n",
       "      <td>Multiple carriers</td>\n",
       "      <td>21/05/2019</td>\n",
       "      <td>Delhi</td>\n",
       "      <td>Cochin</td>\n",
       "      <td>DEL → BOM → COK</td>\n",
       "      <td>08:00</td>\n",
       "      <td>21:00</td>\n",
       "      <td>13h</td>\n",
       "      <td>1 stop</td>\n",
       "      <td>No info</td>\n",
       "    </tr>\n",
       "    <tr>\n",
       "      <th>4</th>\n",
       "      <td>Air Asia</td>\n",
       "      <td>24/06/2019</td>\n",
       "      <td>Banglore</td>\n",
       "      <td>Delhi</td>\n",
       "      <td>BLR → DEL</td>\n",
       "      <td>23:55</td>\n",
       "      <td>02:45 25 Jun</td>\n",
       "      <td>2h 50m</td>\n",
       "      <td>non-stop</td>\n",
       "      <td>No info</td>\n",
       "    </tr>\n",
       "    <tr>\n",
       "      <th>...</th>\n",
       "      <td>...</td>\n",
       "      <td>...</td>\n",
       "      <td>...</td>\n",
       "      <td>...</td>\n",
       "      <td>...</td>\n",
       "      <td>...</td>\n",
       "      <td>...</td>\n",
       "      <td>...</td>\n",
       "      <td>...</td>\n",
       "      <td>...</td>\n",
       "    </tr>\n",
       "    <tr>\n",
       "      <th>2666</th>\n",
       "      <td>Air India</td>\n",
       "      <td>6/06/2019</td>\n",
       "      <td>Kolkata</td>\n",
       "      <td>Banglore</td>\n",
       "      <td>CCU → DEL → BLR</td>\n",
       "      <td>20:30</td>\n",
       "      <td>20:25 07 Jun</td>\n",
       "      <td>23h 55m</td>\n",
       "      <td>1 stop</td>\n",
       "      <td>No info</td>\n",
       "    </tr>\n",
       "    <tr>\n",
       "      <th>2667</th>\n",
       "      <td>IndiGo</td>\n",
       "      <td>27/03/2019</td>\n",
       "      <td>Kolkata</td>\n",
       "      <td>Banglore</td>\n",
       "      <td>CCU → BLR</td>\n",
       "      <td>14:20</td>\n",
       "      <td>16:55</td>\n",
       "      <td>2h 35m</td>\n",
       "      <td>non-stop</td>\n",
       "      <td>No info</td>\n",
       "    </tr>\n",
       "    <tr>\n",
       "      <th>2668</th>\n",
       "      <td>Jet Airways</td>\n",
       "      <td>6/03/2019</td>\n",
       "      <td>Delhi</td>\n",
       "      <td>Cochin</td>\n",
       "      <td>DEL → BOM → COK</td>\n",
       "      <td>21:50</td>\n",
       "      <td>04:25 07 Mar</td>\n",
       "      <td>6h 35m</td>\n",
       "      <td>1 stop</td>\n",
       "      <td>No info</td>\n",
       "    </tr>\n",
       "    <tr>\n",
       "      <th>2669</th>\n",
       "      <td>Air India</td>\n",
       "      <td>6/03/2019</td>\n",
       "      <td>Delhi</td>\n",
       "      <td>Cochin</td>\n",
       "      <td>DEL → BOM → COK</td>\n",
       "      <td>04:00</td>\n",
       "      <td>19:15</td>\n",
       "      <td>15h 15m</td>\n",
       "      <td>1 stop</td>\n",
       "      <td>No info</td>\n",
       "    </tr>\n",
       "    <tr>\n",
       "      <th>2670</th>\n",
       "      <td>Multiple carriers</td>\n",
       "      <td>15/06/2019</td>\n",
       "      <td>Delhi</td>\n",
       "      <td>Cochin</td>\n",
       "      <td>DEL → BOM → COK</td>\n",
       "      <td>04:55</td>\n",
       "      <td>19:15</td>\n",
       "      <td>14h 20m</td>\n",
       "      <td>1 stop</td>\n",
       "      <td>No info</td>\n",
       "    </tr>\n",
       "  </tbody>\n",
       "</table>\n",
       "<p>2671 rows × 10 columns</p>\n",
       "</div>"
      ],
      "text/plain": [
       "                Airline Date_of_Journey    Source Destination  \\\n",
       "0           Jet Airways       6/06/2019     Delhi      Cochin   \n",
       "1                IndiGo      12/05/2019   Kolkata    Banglore   \n",
       "2           Jet Airways      21/05/2019     Delhi      Cochin   \n",
       "3     Multiple carriers      21/05/2019     Delhi      Cochin   \n",
       "4              Air Asia      24/06/2019  Banglore       Delhi   \n",
       "...                 ...             ...       ...         ...   \n",
       "2666          Air India       6/06/2019   Kolkata    Banglore   \n",
       "2667             IndiGo      27/03/2019   Kolkata    Banglore   \n",
       "2668        Jet Airways       6/03/2019     Delhi      Cochin   \n",
       "2669          Air India       6/03/2019     Delhi      Cochin   \n",
       "2670  Multiple carriers      15/06/2019     Delhi      Cochin   \n",
       "\n",
       "                Route Dep_Time  Arrival_Time Duration Total_Stops  \\\n",
       "0     DEL → BOM → COK    17:30  04:25 07 Jun  10h 55m      1 stop   \n",
       "1     CCU → MAA → BLR    06:20         10:20       4h      1 stop   \n",
       "2     DEL → BOM → COK    19:15  19:00 22 May  23h 45m      1 stop   \n",
       "3     DEL → BOM → COK    08:00         21:00      13h      1 stop   \n",
       "4           BLR → DEL    23:55  02:45 25 Jun   2h 50m    non-stop   \n",
       "...               ...      ...           ...      ...         ...   \n",
       "2666  CCU → DEL → BLR    20:30  20:25 07 Jun  23h 55m      1 stop   \n",
       "2667        CCU → BLR    14:20         16:55   2h 35m    non-stop   \n",
       "2668  DEL → BOM → COK    21:50  04:25 07 Mar   6h 35m      1 stop   \n",
       "2669  DEL → BOM → COK    04:00         19:15  15h 15m      1 stop   \n",
       "2670  DEL → BOM → COK    04:55         19:15  14h 20m      1 stop   \n",
       "\n",
       "                  Additional_Info  \n",
       "0                         No info  \n",
       "1                         No info  \n",
       "2     In-flight meal not included  \n",
       "3                         No info  \n",
       "4                         No info  \n",
       "...                           ...  \n",
       "2666                      No info  \n",
       "2667                      No info  \n",
       "2668                      No info  \n",
       "2669                      No info  \n",
       "2670                      No info  \n",
       "\n",
       "[2671 rows x 10 columns]"
      ]
     },
     "execution_count": 132,
     "metadata": {},
     "output_type": "execute_result"
    }
   ],
   "source": [
    "test_data"
   ]
  },
  {
   "cell_type": "markdown",
   "id": "18eb9fb2",
   "metadata": {},
   "source": [
    "### apply Price Predictions to test dataframe"
   ]
  },
  {
   "cell_type": "code",
   "execution_count": 184,
   "id": "5cd765b5",
   "metadata": {},
   "outputs": [],
   "source": [
    "test_final = raw_test_data.copy()"
   ]
  },
  {
   "cell_type": "code",
   "execution_count": 185,
   "id": "3b1d51f0",
   "metadata": {},
   "outputs": [],
   "source": [
    "test_final['Price_Predict'] = test_preds"
   ]
  },
  {
   "cell_type": "code",
   "execution_count": 187,
   "id": "2dbeb1cf",
   "metadata": {},
   "outputs": [],
   "source": [
    "test_final['Price_Predict'] = test_final['Price_Predict'].apply(lambda x: round(x,2))"
   ]
  },
  {
   "cell_type": "code",
   "execution_count": 188,
   "id": "30ce60e6",
   "metadata": {},
   "outputs": [
    {
     "data": {
      "text/html": [
       "<div>\n",
       "<style scoped>\n",
       "    .dataframe tbody tr th:only-of-type {\n",
       "        vertical-align: middle;\n",
       "    }\n",
       "\n",
       "    .dataframe tbody tr th {\n",
       "        vertical-align: top;\n",
       "    }\n",
       "\n",
       "    .dataframe thead th {\n",
       "        text-align: right;\n",
       "    }\n",
       "</style>\n",
       "<table border=\"1\" class=\"dataframe\">\n",
       "  <thead>\n",
       "    <tr style=\"text-align: right;\">\n",
       "      <th></th>\n",
       "      <th>Airline</th>\n",
       "      <th>Date_of_Journey</th>\n",
       "      <th>Source</th>\n",
       "      <th>Destination</th>\n",
       "      <th>Route</th>\n",
       "      <th>Dep_Time</th>\n",
       "      <th>Arrival_Time</th>\n",
       "      <th>Duration</th>\n",
       "      <th>Total_Stops</th>\n",
       "      <th>Additional_Info</th>\n",
       "      <th>Price_Predict</th>\n",
       "    </tr>\n",
       "  </thead>\n",
       "  <tbody>\n",
       "    <tr>\n",
       "      <th>0</th>\n",
       "      <td>Jet Airways</td>\n",
       "      <td>6/06/2019</td>\n",
       "      <td>Delhi</td>\n",
       "      <td>Cochin</td>\n",
       "      <td>DEL → BOM → COK</td>\n",
       "      <td>17:30</td>\n",
       "      <td>04:25 07 Jun</td>\n",
       "      <td>10h 55m</td>\n",
       "      <td>1 stop</td>\n",
       "      <td>No info</td>\n",
       "      <td>14672.55</td>\n",
       "    </tr>\n",
       "    <tr>\n",
       "      <th>1</th>\n",
       "      <td>IndiGo</td>\n",
       "      <td>12/05/2019</td>\n",
       "      <td>Kolkata</td>\n",
       "      <td>Banglore</td>\n",
       "      <td>CCU → MAA → BLR</td>\n",
       "      <td>06:20</td>\n",
       "      <td>10:20</td>\n",
       "      <td>4h</td>\n",
       "      <td>1 stop</td>\n",
       "      <td>No info</td>\n",
       "      <td>4276.92</td>\n",
       "    </tr>\n",
       "    <tr>\n",
       "      <th>2</th>\n",
       "      <td>Jet Airways</td>\n",
       "      <td>21/05/2019</td>\n",
       "      <td>Delhi</td>\n",
       "      <td>Cochin</td>\n",
       "      <td>DEL → BOM → COK</td>\n",
       "      <td>19:15</td>\n",
       "      <td>19:00 22 May</td>\n",
       "      <td>23h 45m</td>\n",
       "      <td>1 stop</td>\n",
       "      <td>In-flight meal not included</td>\n",
       "      <td>12898.00</td>\n",
       "    </tr>\n",
       "    <tr>\n",
       "      <th>3</th>\n",
       "      <td>Multiple carriers</td>\n",
       "      <td>21/05/2019</td>\n",
       "      <td>Delhi</td>\n",
       "      <td>Cochin</td>\n",
       "      <td>DEL → BOM → COK</td>\n",
       "      <td>08:00</td>\n",
       "      <td>21:00</td>\n",
       "      <td>13h</td>\n",
       "      <td>1 stop</td>\n",
       "      <td>No info</td>\n",
       "      <td>12168.57</td>\n",
       "    </tr>\n",
       "    <tr>\n",
       "      <th>4</th>\n",
       "      <td>Air Asia</td>\n",
       "      <td>24/06/2019</td>\n",
       "      <td>Banglore</td>\n",
       "      <td>Delhi</td>\n",
       "      <td>BLR → DEL</td>\n",
       "      <td>23:55</td>\n",
       "      <td>02:45 25 Jun</td>\n",
       "      <td>2h 50m</td>\n",
       "      <td>non-stop</td>\n",
       "      <td>No info</td>\n",
       "      <td>3482.75</td>\n",
       "    </tr>\n",
       "  </tbody>\n",
       "</table>\n",
       "</div>"
      ],
      "text/plain": [
       "             Airline Date_of_Journey    Source Destination            Route  \\\n",
       "0        Jet Airways       6/06/2019     Delhi      Cochin  DEL → BOM → COK   \n",
       "1             IndiGo      12/05/2019   Kolkata    Banglore  CCU → MAA → BLR   \n",
       "2        Jet Airways      21/05/2019     Delhi      Cochin  DEL → BOM → COK   \n",
       "3  Multiple carriers      21/05/2019     Delhi      Cochin  DEL → BOM → COK   \n",
       "4           Air Asia      24/06/2019  Banglore       Delhi        BLR → DEL   \n",
       "\n",
       "  Dep_Time  Arrival_Time Duration Total_Stops              Additional_Info  \\\n",
       "0    17:30  04:25 07 Jun  10h 55m      1 stop                      No info   \n",
       "1    06:20         10:20       4h      1 stop                      No info   \n",
       "2    19:15  19:00 22 May  23h 45m      1 stop  In-flight meal not included   \n",
       "3    08:00         21:00      13h      1 stop                      No info   \n",
       "4    23:55  02:45 25 Jun   2h 50m    non-stop                      No info   \n",
       "\n",
       "   Price_Predict  \n",
       "0       14672.55  \n",
       "1        4276.92  \n",
       "2       12898.00  \n",
       "3       12168.57  \n",
       "4        3482.75  "
      ]
     },
     "execution_count": 188,
     "metadata": {},
     "output_type": "execute_result"
    }
   ],
   "source": [
    "test_final.head()"
   ]
  },
  {
   "cell_type": "code",
   "execution_count": null,
   "id": "6e6f599b",
   "metadata": {},
   "outputs": [],
   "source": []
  }
 ],
 "metadata": {
  "kernelspec": {
   "display_name": "Python 3 (ipykernel)",
   "language": "python",
   "name": "python3"
  },
  "language_info": {
   "codemirror_mode": {
    "name": "ipython",
    "version": 3
   },
   "file_extension": ".py",
   "mimetype": "text/x-python",
   "name": "python",
   "nbconvert_exporter": "python",
   "pygments_lexer": "ipython3",
   "version": "3.9.13"
  }
 },
 "nbformat": 4,
 "nbformat_minor": 5
}
